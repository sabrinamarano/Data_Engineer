{
 "cells": [
  {
   "cell_type": "code",
   "execution_count": 249,
   "id": "2667d75a-b443-4576-bbba-93ccf25ddb21",
   "metadata": {},
   "outputs": [],
   "source": [
    "from bs4 import BeautifulSoup\n",
    "import requests\n",
    "import pandas as pd"
   ]
  },
  {
   "cell_type": "code",
   "execution_count": 250,
   "id": "b2fd1087-ff73-48c5-810a-80678138502b",
   "metadata": {},
   "outputs": [],
   "source": [
    "url = \"https://it.wikipedia.org/wiki/Berlino\""
   ]
  },
  {
   "cell_type": "code",
   "execution_count": 251,
   "id": "42a73b7b-b44f-4097-88db-e63514dba758",
   "metadata": {},
   "outputs": [],
   "source": [
    "response =requests.get(url)"
   ]
  },
  {
   "cell_type": "code",
   "execution_count": 252,
   "id": "22a7b336-9c4d-4f97-9d5b-e7a669dbd59d",
   "metadata": {},
   "outputs": [
    {
     "data": {
      "text/plain": [
       "200"
      ]
     },
     "execution_count": 252,
     "metadata": {},
     "output_type": "execute_result"
    }
   ],
   "source": [
    "response.status_code"
   ]
  },
  {
   "cell_type": "code",
   "execution_count": 253,
   "id": "c594adea-0aac-4db1-adc6-cc9c4d997ed2",
   "metadata": {},
   "outputs": [],
   "source": [
    "soup = BeautifulSoup(response.content, \"html.parser\")"
   ]
  },
  {
   "cell_type": "code",
   "execution_count": 254,
   "id": "17c4537c-857e-4b2b-9402-648d779cecd5",
   "metadata": {},
   "outputs": [
    {
     "data": {
      "text/plain": [
       "\"Berlinocittà-land(DE)  Berlin\\n\\n\\n\\n\\nLocalizzazioneStato\\xa0Germania\\nAmministrazioneMinistro presidenteSindaco governatore: Michael Müller (SPD) dall'11/12/2014\\nTerritorioCoordinate52°31′N 13°23′E\\ufeff / \\ufeff52.516667°N 13.383333°E52.516667; 13.383333Coordinate: 52°31′N 13°23′E\\ufeff / \\ufeff52.516667°N 13.383333°E52.516667; 13.383333\\nAltitudine34\\xa0m\\xa0s.l.m.\\nSuperficie891,12 km²\\nAbitanti3\\xa0969\\xa0495[1] (2019)\\nDensità4\\xa0454,5 ab./km²\\nDistretti gov.nodistretti amministrativi: 12\\nLänder confinantiBrandeburgo\\nAltre informazioniCod. postale10115–14199\\nPrefisso030\\nFuso orarioUTC+1\\nISO 3166-2DE-BE\\nTargaB\\nNome abitanti(IT) berlinesi(DE)  Berliner\\nCartografiaBerlino\\nSito istituzionaleModifica dati su Wikidata\\xa0· Manuale\""
      ]
     },
     "execution_count": 254,
     "metadata": {},
     "output_type": "execute_result"
    }
   ],
   "source": [
    "soup.select(\"#mw-content-text > div.mw-parser-output > table.sinottico\")[0].get_text()"
   ]
  },
  {
   "cell_type": "code",
   "execution_count": 255,
   "id": "498bff3d-d15a-4ec0-8764-05bafc3ff485",
   "metadata": {
    "tags": []
   },
   "outputs": [
    {
     "data": {
      "text/plain": [
       "[<tr class=\"sinottico_divisione\"><th colspan=\"2\" style=\"background-color:#C2FF91;\">Localizzazione</th></tr>,\n",
       " <tr class=\"sinottico_divisione\"><th colspan=\"2\" style=\"background-color:#C2FF91;\">Amministrazione</th></tr>,\n",
       " <tr class=\"sinottico_divisione\"><th colspan=\"2\" style=\"background-color:#C2FF91;\">Territorio</th></tr>,\n",
       " <tr class=\"sinottico_divisione\"><th colspan=\"2\" style=\"background-color:#C2FF91;\">Altre informazioni</th></tr>,\n",
       " <tr class=\"sinottico_divisione\"><th colspan=\"2\" style=\"background-color:#C2FF91;\">Cartografia</th></tr>,\n",
       " <tr class=\"sinottico_divisione\"><th colspan=\"2\" style=\"background-color:#C2FF91;\"><a class=\"external text\" href=\"https://www.berlin.de/\" rel=\"nofollow\">Sito istituzionale</a></th></tr>]"
      ]
     },
     "execution_count": 255,
     "metadata": {},
     "output_type": "execute_result"
    }
   ],
   "source": [
    "soup.select(\"tr.sinottico_divisione\")"
   ]
  },
  {
   "cell_type": "code",
   "execution_count": 257,
   "id": "3e5bc386-5cd8-4114-abe5-c8252166a8bd",
   "metadata": {
    "collapsed": true,
    "jupyter": {
     "outputs_hidden": true
    },
    "tags": []
   },
   "outputs": [
    {
     "data": {
      "text/plain": [
       "[<table class=\"sinottico\" style=\"\" summary=\"Tabella sinottica che riassume i principali dati del soggetto\"><tbody><tr class=\"sinottico_testata\"><th colspan=\"2\" style=\"background-color:#C2FF91;\">Berlino<br/><span class=\"sinottico_sottotitolo\" style=\"\"><a href=\"/wiki/Stati_federati_della_Germania\" title=\"Stati federati della Germania\">città-land</a></span></th></tr><tr><td class=\"sinottico_testo_centrale\" colspan=\"2\" style=\"\">(<span style=\"font-weight:bolder; font-size:80%\"><abbr title=\"tedesco\">DE</abbr></span>)  Berlin\n",
       " </td></tr><tr><td class=\"sinottico_testo_centrale\" colspan=\"2\" style=\"\"><table style=\"margin:auto; padding:0px; border-spacing:5px 0px;\"><tbody><tr><td style=\"max-width:80px; vertical-align:middle;\"><a class=\"image\" href=\"/wiki/File:Coat_of_arms_of_Berlin.svg\" title=\"Berlino – Stemma\"><img alt=\"Berlino – Stemma\" data-file-height=\"739\" data-file-width=\"450\" decoding=\"async\" height=\"125\" src=\"//upload.wikimedia.org/wikipedia/commons/thumb/d/d9/Coat_of_arms_of_Berlin.svg/76px-Coat_of_arms_of_Berlin.svg.png\" srcset=\"//upload.wikimedia.org/wikipedia/commons/thumb/d/d9/Coat_of_arms_of_Berlin.svg/114px-Coat_of_arms_of_Berlin.svg.png 1.5x, //upload.wikimedia.org/wikipedia/commons/thumb/d/d9/Coat_of_arms_of_Berlin.svg/152px-Coat_of_arms_of_Berlin.svg.png 2x\" width=\"76\"/></a></td>\n",
       " <td style=\"max-width:125px; vertical-align:middle\"><a class=\"image\" href=\"/wiki/File:Flag_of_Berlin.svg\" title=\"Berlino – Bandiera\"><img alt=\"Berlino – Bandiera\" class=\"thumbborder\" data-file-height=\"600\" data-file-width=\"1000\" decoding=\"async\" height=\"75\" src=\"//upload.wikimedia.org/wikipedia/commons/thumb/e/ec/Flag_of_Berlin.svg/125px-Flag_of_Berlin.svg.png\" srcset=\"//upload.wikimedia.org/wikipedia/commons/thumb/e/ec/Flag_of_Berlin.svg/188px-Flag_of_Berlin.svg.png 1.5x, //upload.wikimedia.org/wikipedia/commons/thumb/e/ec/Flag_of_Berlin.svg/250px-Flag_of_Berlin.svg.png 2x\" width=\"125\"/></a></td></tr>\n",
       " </tbody></table>\n",
       " </td></tr><tr><td class=\"sinottico_testo_centrale\" colspan=\"2\" style=\"\"><div class=\"center\"><div class=\"floatnone\"><a class=\"image\" href=\"/wiki/File:Berlin_Montage_4.jpg\" title=\"Berlino – Veduta\"><img alt=\"Berlino – Veduta\" data-file-height=\"1125\" data-file-width=\"1022\" decoding=\"async\" height=\"250\" src=\"//upload.wikimedia.org/wikipedia/commons/thumb/5/52/Berlin_Montage_4.jpg/227px-Berlin_Montage_4.jpg\" srcset=\"//upload.wikimedia.org/wikipedia/commons/thumb/5/52/Berlin_Montage_4.jpg/341px-Berlin_Montage_4.jpg 1.5x, //upload.wikimedia.org/wikipedia/commons/thumb/5/52/Berlin_Montage_4.jpg/454px-Berlin_Montage_4.jpg 2x\" width=\"227\"/></a></div></div>\n",
       " </td></tr><tr class=\"sinottico_divisione\"><th colspan=\"2\" style=\"background-color:#C2FF91;\">Localizzazione</th></tr><tr><th style=\"width:80px;\"><a href=\"/wiki/Stato\" title=\"Stato\">Stato</a></th><td class=\"\" style=\"\"><span style=\"white-space:nowrap\"><a class=\"image\" href=\"/wiki/File:Flag_of_Germany.svg\" title=\"Germania\"><img alt=\"Germania\" class=\"noviewer thumbborder\" data-file-height=\"600\" data-file-width=\"1000\" decoding=\"async\" height=\"12\" src=\"//upload.wikimedia.org/wikipedia/commons/thumb/b/ba/Flag_of_Germany.svg/20px-Flag_of_Germany.svg.png\" srcset=\"//upload.wikimedia.org/wikipedia/commons/thumb/b/ba/Flag_of_Germany.svg/30px-Flag_of_Germany.svg.png 1.5x, //upload.wikimedia.org/wikipedia/commons/thumb/b/ba/Flag_of_Germany.svg/40px-Flag_of_Germany.svg.png 2x\" width=\"20\"/></a> </span><a href=\"/wiki/Germania\" title=\"Germania\">Germania</a>\n",
       " </td></tr><tr class=\"sinottico_divisione\"><th colspan=\"2\" style=\"background-color:#C2FF91;\">Amministrazione</th></tr><tr><th style=\"width:80px;\"><a href=\"/wiki/Ministro_presidente\" title=\"Ministro presidente\">Ministro presidente</a></th><td class=\"\" style=\"\"><b><a href=\"/wiki/Sindaci_di_Berlino\" title=\"Sindaci di Berlino\">Sindaco governatore</a></b>: <a href=\"/wiki/Michael_M%C3%BCller\" title=\"Michael Müller\">Michael Müller</a><small> (<a href=\"/wiki/Partito_Socialdemocratico_di_Germania\" title=\"Partito Socialdemocratico di Germania\">SPD</a>) dall'11/12/2014</small>\n",
       " </td></tr><tr class=\"sinottico_divisione\"><th colspan=\"2\" style=\"background-color:#C2FF91;\">Territorio</th></tr><tr><th style=\"width:80px;\"><a href=\"/wiki/Coordinate_geografiche\" title=\"Coordinate geografiche\">Coordinate</a></th><td class=\"\" style=\"\"><style data-mw-deduplicate=\"TemplateStyles:r119427827\">.mw-parser-output .geo-default,.mw-parser-output .geo-dms,.mw-parser-output .geo-dec{display:inline}.mw-parser-output .geo-nondefault,.mw-parser-output .geo-multi-punct{display:none}.mw-parser-output .latitude,.mw-parser-output .longitude{white-space:nowrap}.mw-parser-output .geo{}body.skin-vector .mw-parser-output #coordinates{font-size:85%;line-height:1.5em;position:absolute;right:0;top:0;white-space:nowrap}</style><span class=\"plainlinks nourlexpansion\"><a class=\"external text\" href=\"https://tools.wmflabs.org/geohack/geohack.php?language=it&amp;pagename=Berlino&amp;params=52.516667_N_13.383333_E_type:adm1st_scale:5000000\"><span class=\"geo-default\"><span class=\"geo-dms\" title=\"Mappe, foto aeree e altri dati per questa posizione\"><span class=\"latitude\">52°31′N</span> <span class=\"longitude\">13°23′E</span></span></span><span class=\"geo-multi-punct\">﻿ / ﻿</span><span class=\"geo-nondefault\"><span class=\"geo-dec\" title=\"Mappe, foto aeree e altri dati per questa posizione\">52.516667°N 13.383333°E</span><span style=\"display:none\"><span class=\"geo\">52.516667; 13.383333</span></span></span></a></span><div style=\"font-size: small\"><span class=\"noprint\" id=\"coordinates\"><a href=\"/wiki/Coordinate_geografiche\" title=\"Coordinate geografiche\">Coordinate</a>: <span class=\"plainlinks nourlexpansion\"><a class=\"external text\" href=\"https://tools.wmflabs.org/geohack/geohack.php?language=it&amp;pagename=Berlino&amp;params=52.516667_N_13.383333_E_type:adm1st_scale:5000000\"><span class=\"geo-default\"><span class=\"geo-dms\" title=\"Mappe, foto aeree e altri dati per questa posizione\"><span class=\"latitude\">52°31′N</span> <span class=\"longitude\">13°23′E</span></span></span><span class=\"geo-multi-punct\">﻿ / ﻿</span><span class=\"geo-nondefault\"><span class=\"geo-dec\" title=\"Mappe, foto aeree e altri dati per questa posizione\">52.516667°N 13.383333°E</span><span style=\"display:none\"><span class=\"geo\">52.516667; 13.383333</span></span></span></a></span></span></div>\n",
       " </td></tr><tr><th style=\"width:80px;\"><a href=\"/wiki/Altitudine\" title=\"Altitudine\">Altitudine</a></th><td class=\"\" style=\"\">34 <a href=\"/wiki/Metro\" title=\"Metro\">m</a> <a href=\"/wiki/Livello_del_mare\" title=\"Livello del mare\">s.l.m.</a>\n",
       " </td></tr><tr><th style=\"width:80px;\"><a href=\"/wiki/Area\" title=\"Area\">Superficie</a></th><td class=\"\" style=\"\">891,12 <a href=\"/wiki/Chilometro_quadrato\" title=\"Chilometro quadrato\">km²</a>\n",
       " </td></tr><tr><th style=\"width:80px;\"><a href=\"/wiki/Popolazione\" title=\"Popolazione\">Abitanti</a></th><td class=\"\" style=\"\">3 969 495<sup class=\"reference\" id=\"cite_ref-template_divisione_amministrativa-abitanti_1-0\"><a href=\"#cite_note-template_divisione_amministrativa-abitanti-1\">[1]</a></sup> <small>(<a href=\"/wiki/2019\" title=\"2019\">2019</a>)</small>\n",
       " </td></tr><tr><th style=\"width:80px;\"><a href=\"/wiki/Densit%C3%A0_di_popolazione\" title=\"Densità di popolazione\">Densità</a></th><td class=\"\" style=\"\">4 454,5 ab./<a href=\"/wiki/Chilometro_quadrato\" title=\"Chilometro quadrato\">km²</a>\n",
       " </td></tr><tr><th style=\"width:80px;\"><a href=\"/wiki/Distretti_governativi_della_Germania\" title=\"Distretti governativi della Germania\">Distretti gov.</a></th><td class=\"\" style=\"\">no<br/><a href=\"/wiki/Distretti_di_Berlino\" title=\"Distretti di Berlino\">distretti amministrativi</a>: 12\n",
       " </td></tr><tr><th style=\"width:80px;\">Länder confinanti</th><td class=\"\" style=\"\"><a href=\"/wiki/Brandeburgo\" title=\"Brandeburgo\">Brandeburgo</a>\n",
       " </td></tr><tr class=\"sinottico_divisione\"><th colspan=\"2\" style=\"background-color:#C2FF91;\">Altre informazioni</th></tr><tr><th style=\"width:80px;\"><a href=\"/wiki/Codice_postale\" title=\"Codice postale\">Cod. postale</a></th><td class=\"\" style=\"\">10115–14199\n",
       " </td></tr><tr><th style=\"width:80px;\"><a href=\"/wiki/Prefisso_telefonico\" title=\"Prefisso telefonico\">Prefisso</a></th><td class=\"\" style=\"\">030\n",
       " </td></tr><tr><th style=\"width:80px;\"><a href=\"/wiki/Fuso_orario\" title=\"Fuso orario\">Fuso orario</a></th><td class=\"\" style=\"\"><a href=\"/wiki/UTC%2B1\" title=\"UTC+1\">UTC+1</a>\n",
       " </td></tr><tr><th style=\"width:80px;\"><a href=\"/wiki/ISO_3166-2\" title=\"ISO 3166-2\">ISO 3166-2</a></th><td class=\"\" style=\"\">DE-BE\n",
       " </td></tr><tr><th style=\"width:80px;\"><a href=\"/wiki/Targa_d%27immatricolazione\" title=\"Targa d'immatricolazione\">Targa</a></th><td class=\"\" style=\"\">B\n",
       " </td></tr><tr><th style=\"width:80px;\"><a href=\"/wiki/Etnico_(onomastica)\" title=\"Etnico (onomastica)\">Nome abitanti</a></th><td class=\"\" style=\"\">(<span style=\"font-weight:bolder; font-size:80%\"><abbr title=\"italiano\">IT</abbr></span>) berlinesi<br/>(<span style=\"font-weight:bolder; font-size:80%\"><abbr title=\"tedesco\">DE</abbr></span>)  <i>Berliner</i>\n",
       " </td></tr><tr class=\"sinottico_divisione\"><th colspan=\"2\" style=\"background-color:#C2FF91;\">Cartografia</th></tr><tr><td class=\"sinottico_testo_centrale\" colspan=\"2\" style=\"\"><div class=\"center\"><div style=\"width:260px;float:none;clear:both;margin-left:auto;margin-right:auto\"><div style=\"width:260px;padding:0\"><div style=\"position:relative;width:260px\"><img alt=\"Mappa di localizzazione: Germania\" data-file-height=\"1272\" data-file-width=\"1073\" decoding=\"async\" height=\"308\" src=\"//upload.wikimedia.org/wikipedia/commons/thumb/0/0d/Germany_location_map.svg/260px-Germany_location_map.svg.png\" srcset=\"//upload.wikimedia.org/wikipedia/commons/thumb/0/0d/Germany_location_map.svg/390px-Germany_location_map.svg.png 1.5x, //upload.wikimedia.org/wikipedia/commons/thumb/0/0d/Germany_location_map.svg/520px-Germany_location_map.svg.png 2x\" title=\"Mappa di localizzazione: Germania\" width=\"260\"/><div style=\"position:absolute;top:32.7%;left:78.833%;height:0;width:0;margin:0;padding:0\"><div style=\"position:absolute;text-align:center;left:-4px;top:-4px;width:8px;font-size:8px;line-height:0\"><a href=\"http://www.openstreetmap.org/?mlat=52.516666666667&amp;mlon=13.383333333333&amp;zoom=6\" rel=\"nofollow\" title=\"Berlino\"><img alt=\"Berlino\" data-file-height=\"64\" data-file-width=\"64\" decoding=\"async\" height=\"8\" src=\"//upload.wikimedia.org/wikipedia/commons/thumb/0/0c/Red_pog.svg/8px-Red_pog.svg.png\" srcset=\"//upload.wikimedia.org/wikipedia/commons/thumb/0/0c/Red_pog.svg/12px-Red_pog.svg.png 1.5x, //upload.wikimedia.org/wikipedia/commons/thumb/0/0c/Red_pog.svg/16px-Red_pog.svg.png 2x\" width=\"8\"/></a></div><div style=\"font-size:90%;line-height:110%;position:absolute;width:6em;top:-0.75em;right:5px;text-align:right\"><span style=\"padding:1px;float:right\">Berlino</span></div></div></div></div></div></div>\n",
       " </td></tr><tr class=\"sinottico_divisione\"><th colspan=\"2\" style=\"background-color:#C2FF91;\"><a class=\"external text\" href=\"https://www.berlin.de/\" rel=\"nofollow\">Sito istituzionale</a></th></tr><tr><td class=\"sinottico_piede2 noprint nomobile metadata\" colspan=\"2\"><a class=\"extiw\" href=\"https://www.wikidata.org/wiki/Q64\" title=\"d:Q64\"><span title=\"Modifica i dati della voce Berlino su Wikidata\">Modifica dati su Wikidata</span></a><b> ·</b> <a href=\"/wiki/Template:Divisione_amministrativa/man\" title=\"Template:Divisione amministrativa/man\"><span title=\"Manuale del template Divisione amministrativa\">Manuale</span></a></td></tr></tbody></table>]"
      ]
     },
     "execution_count": 257,
     "metadata": {},
     "output_type": "execute_result"
    }
   ],
   "source": [
    "soup.select(\"table.sinottico\")"
   ]
  },
  {
   "cell_type": "code",
   "execution_count": 258,
   "id": "2ad892fd-29fe-435e-a96f-96c0c0002fc4",
   "metadata": {
    "collapsed": true,
    "jupyter": {
     "outputs_hidden": true
    },
    "tags": []
   },
   "outputs": [
    {
     "data": {
      "text/plain": [
       "[<td class=\"sinottico_testo_centrale\" colspan=\"2\" style=\"\">(<span style=\"font-weight:bolder; font-size:80%\"><abbr title=\"tedesco\">DE</abbr></span>)  Berlin\n",
       " </td>,\n",
       " <td class=\"sinottico_testo_centrale\" colspan=\"2\" style=\"\"><table style=\"margin:auto; padding:0px; border-spacing:5px 0px;\"><tbody><tr><td style=\"max-width:80px; vertical-align:middle;\"><a class=\"image\" href=\"/wiki/File:Coat_of_arms_of_Berlin.svg\" title=\"Berlino – Stemma\"><img alt=\"Berlino – Stemma\" data-file-height=\"739\" data-file-width=\"450\" decoding=\"async\" height=\"125\" src=\"//upload.wikimedia.org/wikipedia/commons/thumb/d/d9/Coat_of_arms_of_Berlin.svg/76px-Coat_of_arms_of_Berlin.svg.png\" srcset=\"//upload.wikimedia.org/wikipedia/commons/thumb/d/d9/Coat_of_arms_of_Berlin.svg/114px-Coat_of_arms_of_Berlin.svg.png 1.5x, //upload.wikimedia.org/wikipedia/commons/thumb/d/d9/Coat_of_arms_of_Berlin.svg/152px-Coat_of_arms_of_Berlin.svg.png 2x\" width=\"76\"/></a></td>\n",
       " <td style=\"max-width:125px; vertical-align:middle\"><a class=\"image\" href=\"/wiki/File:Flag_of_Berlin.svg\" title=\"Berlino – Bandiera\"><img alt=\"Berlino – Bandiera\" class=\"thumbborder\" data-file-height=\"600\" data-file-width=\"1000\" decoding=\"async\" height=\"75\" src=\"//upload.wikimedia.org/wikipedia/commons/thumb/e/ec/Flag_of_Berlin.svg/125px-Flag_of_Berlin.svg.png\" srcset=\"//upload.wikimedia.org/wikipedia/commons/thumb/e/ec/Flag_of_Berlin.svg/188px-Flag_of_Berlin.svg.png 1.5x, //upload.wikimedia.org/wikipedia/commons/thumb/e/ec/Flag_of_Berlin.svg/250px-Flag_of_Berlin.svg.png 2x\" width=\"125\"/></a></td></tr>\n",
       " </tbody></table>\n",
       " </td>,\n",
       " <td style=\"max-width:80px; vertical-align:middle;\"><a class=\"image\" href=\"/wiki/File:Coat_of_arms_of_Berlin.svg\" title=\"Berlino – Stemma\"><img alt=\"Berlino – Stemma\" data-file-height=\"739\" data-file-width=\"450\" decoding=\"async\" height=\"125\" src=\"//upload.wikimedia.org/wikipedia/commons/thumb/d/d9/Coat_of_arms_of_Berlin.svg/76px-Coat_of_arms_of_Berlin.svg.png\" srcset=\"//upload.wikimedia.org/wikipedia/commons/thumb/d/d9/Coat_of_arms_of_Berlin.svg/114px-Coat_of_arms_of_Berlin.svg.png 1.5x, //upload.wikimedia.org/wikipedia/commons/thumb/d/d9/Coat_of_arms_of_Berlin.svg/152px-Coat_of_arms_of_Berlin.svg.png 2x\" width=\"76\"/></a></td>,\n",
       " <td style=\"max-width:125px; vertical-align:middle\"><a class=\"image\" href=\"/wiki/File:Flag_of_Berlin.svg\" title=\"Berlino – Bandiera\"><img alt=\"Berlino – Bandiera\" class=\"thumbborder\" data-file-height=\"600\" data-file-width=\"1000\" decoding=\"async\" height=\"75\" src=\"//upload.wikimedia.org/wikipedia/commons/thumb/e/ec/Flag_of_Berlin.svg/125px-Flag_of_Berlin.svg.png\" srcset=\"//upload.wikimedia.org/wikipedia/commons/thumb/e/ec/Flag_of_Berlin.svg/188px-Flag_of_Berlin.svg.png 1.5x, //upload.wikimedia.org/wikipedia/commons/thumb/e/ec/Flag_of_Berlin.svg/250px-Flag_of_Berlin.svg.png 2x\" width=\"125\"/></a></td>,\n",
       " <td class=\"sinottico_testo_centrale\" colspan=\"2\" style=\"\"><div class=\"center\"><div class=\"floatnone\"><a class=\"image\" href=\"/wiki/File:Berlin_Montage_4.jpg\" title=\"Berlino – Veduta\"><img alt=\"Berlino – Veduta\" data-file-height=\"1125\" data-file-width=\"1022\" decoding=\"async\" height=\"250\" src=\"//upload.wikimedia.org/wikipedia/commons/thumb/5/52/Berlin_Montage_4.jpg/227px-Berlin_Montage_4.jpg\" srcset=\"//upload.wikimedia.org/wikipedia/commons/thumb/5/52/Berlin_Montage_4.jpg/341px-Berlin_Montage_4.jpg 1.5x, //upload.wikimedia.org/wikipedia/commons/thumb/5/52/Berlin_Montage_4.jpg/454px-Berlin_Montage_4.jpg 2x\" width=\"227\"/></a></div></div>\n",
       " </td>,\n",
       " <td class=\"\" style=\"\"><span style=\"white-space:nowrap\"><a class=\"image\" href=\"/wiki/File:Flag_of_Germany.svg\" title=\"Germania\"><img alt=\"Germania\" class=\"noviewer thumbborder\" data-file-height=\"600\" data-file-width=\"1000\" decoding=\"async\" height=\"12\" src=\"//upload.wikimedia.org/wikipedia/commons/thumb/b/ba/Flag_of_Germany.svg/20px-Flag_of_Germany.svg.png\" srcset=\"//upload.wikimedia.org/wikipedia/commons/thumb/b/ba/Flag_of_Germany.svg/30px-Flag_of_Germany.svg.png 1.5x, //upload.wikimedia.org/wikipedia/commons/thumb/b/ba/Flag_of_Germany.svg/40px-Flag_of_Germany.svg.png 2x\" width=\"20\"/></a> </span><a href=\"/wiki/Germania\" title=\"Germania\">Germania</a>\n",
       " </td>,\n",
       " <td class=\"\" style=\"\"><b><a href=\"/wiki/Sindaci_di_Berlino\" title=\"Sindaci di Berlino\">Sindaco governatore</a></b>: <a href=\"/wiki/Michael_M%C3%BCller\" title=\"Michael Müller\">Michael Müller</a><small> (<a href=\"/wiki/Partito_Socialdemocratico_di_Germania\" title=\"Partito Socialdemocratico di Germania\">SPD</a>) dall'11/12/2014</small>\n",
       " </td>,\n",
       " <td class=\"\" style=\"\"><style data-mw-deduplicate=\"TemplateStyles:r119427827\">.mw-parser-output .geo-default,.mw-parser-output .geo-dms,.mw-parser-output .geo-dec{display:inline}.mw-parser-output .geo-nondefault,.mw-parser-output .geo-multi-punct{display:none}.mw-parser-output .latitude,.mw-parser-output .longitude{white-space:nowrap}.mw-parser-output .geo{}body.skin-vector .mw-parser-output #coordinates{font-size:85%;line-height:1.5em;position:absolute;right:0;top:0;white-space:nowrap}</style><span class=\"plainlinks nourlexpansion\"><a class=\"external text\" href=\"https://tools.wmflabs.org/geohack/geohack.php?language=it&amp;pagename=Berlino&amp;params=52.516667_N_13.383333_E_type:adm1st_scale:5000000\"><span class=\"geo-default\"><span class=\"geo-dms\" title=\"Mappe, foto aeree e altri dati per questa posizione\"><span class=\"latitude\">52°31′N</span> <span class=\"longitude\">13°23′E</span></span></span><span class=\"geo-multi-punct\">﻿ / ﻿</span><span class=\"geo-nondefault\"><span class=\"geo-dec\" title=\"Mappe, foto aeree e altri dati per questa posizione\">52.516667°N 13.383333°E</span><span style=\"display:none\"><span class=\"geo\">52.516667; 13.383333</span></span></span></a></span><div style=\"font-size: small\"><span class=\"noprint\" id=\"coordinates\"><a href=\"/wiki/Coordinate_geografiche\" title=\"Coordinate geografiche\">Coordinate</a>: <span class=\"plainlinks nourlexpansion\"><a class=\"external text\" href=\"https://tools.wmflabs.org/geohack/geohack.php?language=it&amp;pagename=Berlino&amp;params=52.516667_N_13.383333_E_type:adm1st_scale:5000000\"><span class=\"geo-default\"><span class=\"geo-dms\" title=\"Mappe, foto aeree e altri dati per questa posizione\"><span class=\"latitude\">52°31′N</span> <span class=\"longitude\">13°23′E</span></span></span><span class=\"geo-multi-punct\">﻿ / ﻿</span><span class=\"geo-nondefault\"><span class=\"geo-dec\" title=\"Mappe, foto aeree e altri dati per questa posizione\">52.516667°N 13.383333°E</span><span style=\"display:none\"><span class=\"geo\">52.516667; 13.383333</span></span></span></a></span></span></div>\n",
       " </td>,\n",
       " <td class=\"\" style=\"\">34 <a href=\"/wiki/Metro\" title=\"Metro\">m</a> <a href=\"/wiki/Livello_del_mare\" title=\"Livello del mare\">s.l.m.</a>\n",
       " </td>,\n",
       " <td class=\"\" style=\"\">891,12 <a href=\"/wiki/Chilometro_quadrato\" title=\"Chilometro quadrato\">km²</a>\n",
       " </td>,\n",
       " <td class=\"\" style=\"\">3 969 495<sup class=\"reference\" id=\"cite_ref-template_divisione_amministrativa-abitanti_1-0\"><a href=\"#cite_note-template_divisione_amministrativa-abitanti-1\">[1]</a></sup> <small>(<a href=\"/wiki/2019\" title=\"2019\">2019</a>)</small>\n",
       " </td>,\n",
       " <td class=\"\" style=\"\">4 454,5 ab./<a href=\"/wiki/Chilometro_quadrato\" title=\"Chilometro quadrato\">km²</a>\n",
       " </td>,\n",
       " <td class=\"\" style=\"\">no<br/><a href=\"/wiki/Distretti_di_Berlino\" title=\"Distretti di Berlino\">distretti amministrativi</a>: 12\n",
       " </td>,\n",
       " <td class=\"\" style=\"\"><a href=\"/wiki/Brandeburgo\" title=\"Brandeburgo\">Brandeburgo</a>\n",
       " </td>,\n",
       " <td class=\"\" style=\"\">10115–14199\n",
       " </td>,\n",
       " <td class=\"\" style=\"\">030\n",
       " </td>,\n",
       " <td class=\"\" style=\"\"><a href=\"/wiki/UTC%2B1\" title=\"UTC+1\">UTC+1</a>\n",
       " </td>,\n",
       " <td class=\"\" style=\"\">DE-BE\n",
       " </td>,\n",
       " <td class=\"\" style=\"\">B\n",
       " </td>,\n",
       " <td class=\"\" style=\"\">(<span style=\"font-weight:bolder; font-size:80%\"><abbr title=\"italiano\">IT</abbr></span>) berlinesi<br/>(<span style=\"font-weight:bolder; font-size:80%\"><abbr title=\"tedesco\">DE</abbr></span>)  <i>Berliner</i>\n",
       " </td>,\n",
       " <td class=\"sinottico_testo_centrale\" colspan=\"2\" style=\"\"><div class=\"center\"><div style=\"width:260px;float:none;clear:both;margin-left:auto;margin-right:auto\"><div style=\"width:260px;padding:0\"><div style=\"position:relative;width:260px\"><img alt=\"Mappa di localizzazione: Germania\" data-file-height=\"1272\" data-file-width=\"1073\" decoding=\"async\" height=\"308\" src=\"//upload.wikimedia.org/wikipedia/commons/thumb/0/0d/Germany_location_map.svg/260px-Germany_location_map.svg.png\" srcset=\"//upload.wikimedia.org/wikipedia/commons/thumb/0/0d/Germany_location_map.svg/390px-Germany_location_map.svg.png 1.5x, //upload.wikimedia.org/wikipedia/commons/thumb/0/0d/Germany_location_map.svg/520px-Germany_location_map.svg.png 2x\" title=\"Mappa di localizzazione: Germania\" width=\"260\"/><div style=\"position:absolute;top:32.7%;left:78.833%;height:0;width:0;margin:0;padding:0\"><div style=\"position:absolute;text-align:center;left:-4px;top:-4px;width:8px;font-size:8px;line-height:0\"><a href=\"http://www.openstreetmap.org/?mlat=52.516666666667&amp;mlon=13.383333333333&amp;zoom=6\" rel=\"nofollow\" title=\"Berlino\"><img alt=\"Berlino\" data-file-height=\"64\" data-file-width=\"64\" decoding=\"async\" height=\"8\" src=\"//upload.wikimedia.org/wikipedia/commons/thumb/0/0c/Red_pog.svg/8px-Red_pog.svg.png\" srcset=\"//upload.wikimedia.org/wikipedia/commons/thumb/0/0c/Red_pog.svg/12px-Red_pog.svg.png 1.5x, //upload.wikimedia.org/wikipedia/commons/thumb/0/0c/Red_pog.svg/16px-Red_pog.svg.png 2x\" width=\"8\"/></a></div><div style=\"font-size:90%;line-height:110%;position:absolute;width:6em;top:-0.75em;right:5px;text-align:right\"><span style=\"padding:1px;float:right\">Berlino</span></div></div></div></div></div></div>\n",
       " </td>,\n",
       " <td class=\"sinottico_piede2 noprint nomobile metadata\" colspan=\"2\"><a class=\"extiw\" href=\"https://www.wikidata.org/wiki/Q64\" title=\"d:Q64\"><span title=\"Modifica i dati della voce Berlino su Wikidata\">Modifica dati su Wikidata</span></a><b> ·</b> <a href=\"/wiki/Template:Divisione_amministrativa/man\" title=\"Template:Divisione amministrativa/man\"><span title=\"Manuale del template Divisione amministrativa\">Manuale</span></a></td>]"
      ]
     },
     "execution_count": 258,
     "metadata": {},
     "output_type": "execute_result"
    }
   ],
   "source": [
    "soup.select(\"table.sinottico td\")"
   ]
  },
  {
   "cell_type": "code",
   "execution_count": 270,
   "id": "4d04df2f-9acf-48f7-b1c5-7cd80916a5f4",
   "metadata": {
    "tags": []
   },
   "outputs": [
    {
     "data": {
      "text/plain": [
       "[<th colspan=\"2\" style=\"background-color:#C2FF91;\">Berlino<br/><span class=\"sinottico_sottotitolo\" style=\"\"><a href=\"/wiki/Stati_federati_della_Germania\" title=\"Stati federati della Germania\">città-land</a></span></th>,\n",
       " <th colspan=\"2\" style=\"background-color:#C2FF91;\">Localizzazione</th>,\n",
       " <th style=\"width:80px;\"><a href=\"/wiki/Stato\" title=\"Stato\">Stato</a></th>,\n",
       " <th colspan=\"2\" style=\"background-color:#C2FF91;\">Amministrazione</th>,\n",
       " <th style=\"width:80px;\"><a href=\"/wiki/Ministro_presidente\" title=\"Ministro presidente\">Ministro presidente</a></th>,\n",
       " <th colspan=\"2\" style=\"background-color:#C2FF91;\">Territorio</th>,\n",
       " <th style=\"width:80px;\"><a href=\"/wiki/Coordinate_geografiche\" title=\"Coordinate geografiche\">Coordinate</a></th>,\n",
       " <th style=\"width:80px;\"><a href=\"/wiki/Altitudine\" title=\"Altitudine\">Altitudine</a></th>,\n",
       " <th style=\"width:80px;\"><a href=\"/wiki/Area\" title=\"Area\">Superficie</a></th>,\n",
       " <th style=\"width:80px;\"><a href=\"/wiki/Popolazione\" title=\"Popolazione\">Abitanti</a></th>,\n",
       " <th style=\"width:80px;\"><a href=\"/wiki/Densit%C3%A0_di_popolazione\" title=\"Densità di popolazione\">Densità</a></th>,\n",
       " <th style=\"width:80px;\"><a href=\"/wiki/Distretti_governativi_della_Germania\" title=\"Distretti governativi della Germania\">Distretti gov.</a></th>,\n",
       " <th style=\"width:80px;\">Länder confinanti</th>,\n",
       " <th colspan=\"2\" style=\"background-color:#C2FF91;\">Altre informazioni</th>,\n",
       " <th style=\"width:80px;\"><a href=\"/wiki/Codice_postale\" title=\"Codice postale\">Cod. postale</a></th>,\n",
       " <th style=\"width:80px;\"><a href=\"/wiki/Prefisso_telefonico\" title=\"Prefisso telefonico\">Prefisso</a></th>,\n",
       " <th style=\"width:80px;\"><a href=\"/wiki/Fuso_orario\" title=\"Fuso orario\">Fuso orario</a></th>,\n",
       " <th style=\"width:80px;\"><a href=\"/wiki/ISO_3166-2\" title=\"ISO 3166-2\">ISO 3166-2</a></th>,\n",
       " <th style=\"width:80px;\"><a href=\"/wiki/Targa_d%27immatricolazione\" title=\"Targa d'immatricolazione\">Targa</a></th>,\n",
       " <th style=\"width:80px;\"><a href=\"/wiki/Etnico_(onomastica)\" title=\"Etnico (onomastica)\">Nome abitanti</a></th>,\n",
       " <th colspan=\"2\" style=\"background-color:#C2FF91;\">Cartografia</th>,\n",
       " <th colspan=\"2\" style=\"background-color:#C2FF91;\"><a class=\"external text\" href=\"https://www.berlin.de/\" rel=\"nofollow\">Sito istituzionale</a></th>]"
      ]
     },
     "execution_count": 270,
     "metadata": {},
     "output_type": "execute_result"
    }
   ],
   "source": [
    "soup.select(\"table.sinottico th\")"
   ]
  },
  {
   "cell_type": "code",
   "execution_count": 261,
   "id": "29468bd1-3256-42be-a1d3-592833aafddb",
   "metadata": {},
   "outputs": [
    {
     "data": {
      "text/plain": [
       "'Länder confinanti'"
      ]
     },
     "execution_count": 261,
     "metadata": {},
     "output_type": "execute_result"
    }
   ],
   "source": [
    "soup.select(\"th\")[12].get_text()"
   ]
  },
  {
   "cell_type": "code",
   "execution_count": 263,
   "id": "de9d11f3-aecb-4ca5-9d4a-2c98a4e59ca8",
   "metadata": {},
   "outputs": [
    {
     "data": {
      "text/plain": [
       "'(DE)  Berlin\\n'"
      ]
     },
     "execution_count": 263,
     "metadata": {},
     "output_type": "execute_result"
    }
   ],
   "source": [
    "soup.select('td')[0].get_text()"
   ]
  },
  {
   "cell_type": "code",
   "execution_count": 264,
   "id": "c18b7c39-2bbc-4202-815d-4fea99bd2f3c",
   "metadata": {
    "tags": []
   },
   "outputs": [
    {
     "data": {
      "text/plain": [
       "'34\\xa0m\\xa0s.l.m.\\n'"
      ]
     },
     "execution_count": 264,
     "metadata": {},
     "output_type": "execute_result"
    }
   ],
   "source": [
    "soup.select('td')[8].get_text()"
   ]
  },
  {
   "cell_type": "code",
   "execution_count": 149,
   "id": "7a3d4c49-5b19-47ff-93a0-13827b6da56e",
   "metadata": {
    "collapsed": true,
    "jupyter": {
     "outputs_hidden": true
    },
    "tags": []
   },
   "outputs": [
    {
     "data": {
      "text/plain": [
       "[<td class=\"sinottico_testo_centrale\" colspan=\"2\" style=\"\">(<span style=\"font-weight:bolder; font-size:80%\"><abbr title=\"tedesco\">DE</abbr></span>)  Berlin\n",
       " </td>,\n",
       " <td class=\"sinottico_testo_centrale\" colspan=\"2\" style=\"\"><table style=\"margin:auto; padding:0px; border-spacing:5px 0px;\"><tbody><tr><td style=\"max-width:80px; vertical-align:middle;\"><a class=\"image\" href=\"/wiki/File:Coat_of_arms_of_Berlin.svg\" title=\"Berlino – Stemma\"><img alt=\"Berlino – Stemma\" data-file-height=\"739\" data-file-width=\"450\" decoding=\"async\" height=\"125\" src=\"//upload.wikimedia.org/wikipedia/commons/thumb/d/d9/Coat_of_arms_of_Berlin.svg/76px-Coat_of_arms_of_Berlin.svg.png\" srcset=\"//upload.wikimedia.org/wikipedia/commons/thumb/d/d9/Coat_of_arms_of_Berlin.svg/114px-Coat_of_arms_of_Berlin.svg.png 1.5x, //upload.wikimedia.org/wikipedia/commons/thumb/d/d9/Coat_of_arms_of_Berlin.svg/152px-Coat_of_arms_of_Berlin.svg.png 2x\" width=\"76\"/></a></td>\n",
       " <td style=\"max-width:125px; vertical-align:middle\"><a class=\"image\" href=\"/wiki/File:Flag_of_Berlin.svg\" title=\"Berlino – Bandiera\"><img alt=\"Berlino – Bandiera\" class=\"thumbborder\" data-file-height=\"600\" data-file-width=\"1000\" decoding=\"async\" height=\"75\" src=\"//upload.wikimedia.org/wikipedia/commons/thumb/e/ec/Flag_of_Berlin.svg/125px-Flag_of_Berlin.svg.png\" srcset=\"//upload.wikimedia.org/wikipedia/commons/thumb/e/ec/Flag_of_Berlin.svg/188px-Flag_of_Berlin.svg.png 1.5x, //upload.wikimedia.org/wikipedia/commons/thumb/e/ec/Flag_of_Berlin.svg/250px-Flag_of_Berlin.svg.png 2x\" width=\"125\"/></a></td></tr>\n",
       " </tbody></table>\n",
       " </td>,\n",
       " <td style=\"max-width:80px; vertical-align:middle;\"><a class=\"image\" href=\"/wiki/File:Coat_of_arms_of_Berlin.svg\" title=\"Berlino – Stemma\"><img alt=\"Berlino – Stemma\" data-file-height=\"739\" data-file-width=\"450\" decoding=\"async\" height=\"125\" src=\"//upload.wikimedia.org/wikipedia/commons/thumb/d/d9/Coat_of_arms_of_Berlin.svg/76px-Coat_of_arms_of_Berlin.svg.png\" srcset=\"//upload.wikimedia.org/wikipedia/commons/thumb/d/d9/Coat_of_arms_of_Berlin.svg/114px-Coat_of_arms_of_Berlin.svg.png 1.5x, //upload.wikimedia.org/wikipedia/commons/thumb/d/d9/Coat_of_arms_of_Berlin.svg/152px-Coat_of_arms_of_Berlin.svg.png 2x\" width=\"76\"/></a></td>,\n",
       " <td style=\"max-width:125px; vertical-align:middle\"><a class=\"image\" href=\"/wiki/File:Flag_of_Berlin.svg\" title=\"Berlino – Bandiera\"><img alt=\"Berlino – Bandiera\" class=\"thumbborder\" data-file-height=\"600\" data-file-width=\"1000\" decoding=\"async\" height=\"75\" src=\"//upload.wikimedia.org/wikipedia/commons/thumb/e/ec/Flag_of_Berlin.svg/125px-Flag_of_Berlin.svg.png\" srcset=\"//upload.wikimedia.org/wikipedia/commons/thumb/e/ec/Flag_of_Berlin.svg/188px-Flag_of_Berlin.svg.png 1.5x, //upload.wikimedia.org/wikipedia/commons/thumb/e/ec/Flag_of_Berlin.svg/250px-Flag_of_Berlin.svg.png 2x\" width=\"125\"/></a></td>,\n",
       " <td class=\"sinottico_testo_centrale\" colspan=\"2\" style=\"\"><div class=\"center\"><div class=\"floatnone\"><a class=\"image\" href=\"/wiki/File:Berlin_Montage_4.jpg\" title=\"Berlino – Veduta\"><img alt=\"Berlino – Veduta\" data-file-height=\"1125\" data-file-width=\"1022\" decoding=\"async\" height=\"250\" src=\"//upload.wikimedia.org/wikipedia/commons/thumb/5/52/Berlin_Montage_4.jpg/227px-Berlin_Montage_4.jpg\" srcset=\"//upload.wikimedia.org/wikipedia/commons/thumb/5/52/Berlin_Montage_4.jpg/341px-Berlin_Montage_4.jpg 1.5x, //upload.wikimedia.org/wikipedia/commons/thumb/5/52/Berlin_Montage_4.jpg/454px-Berlin_Montage_4.jpg 2x\" width=\"227\"/></a></div></div>\n",
       " </td>,\n",
       " <td class=\"\" style=\"\"><span style=\"white-space:nowrap\"><a class=\"image\" href=\"/wiki/File:Flag_of_Germany.svg\" title=\"Germania\"><img alt=\"Germania\" class=\"noviewer thumbborder\" data-file-height=\"600\" data-file-width=\"1000\" decoding=\"async\" height=\"12\" src=\"//upload.wikimedia.org/wikipedia/commons/thumb/b/ba/Flag_of_Germany.svg/20px-Flag_of_Germany.svg.png\" srcset=\"//upload.wikimedia.org/wikipedia/commons/thumb/b/ba/Flag_of_Germany.svg/30px-Flag_of_Germany.svg.png 1.5x, //upload.wikimedia.org/wikipedia/commons/thumb/b/ba/Flag_of_Germany.svg/40px-Flag_of_Germany.svg.png 2x\" width=\"20\"/></a> </span><a href=\"/wiki/Germania\" title=\"Germania\">Germania</a>\n",
       " </td>,\n",
       " <td class=\"\" style=\"\"><b><a href=\"/wiki/Sindaci_di_Berlino\" title=\"Sindaci di Berlino\">Sindaco governatore</a></b>: <a href=\"/wiki/Michael_M%C3%BCller\" title=\"Michael Müller\">Michael Müller</a><small> (<a href=\"/wiki/Partito_Socialdemocratico_di_Germania\" title=\"Partito Socialdemocratico di Germania\">SPD</a>) dall'11/12/2014</small>\n",
       " </td>,\n",
       " <td class=\"\" style=\"\"><style data-mw-deduplicate=\"TemplateStyles:r119427827\">.mw-parser-output .geo-default,.mw-parser-output .geo-dms,.mw-parser-output .geo-dec{display:inline}.mw-parser-output .geo-nondefault,.mw-parser-output .geo-multi-punct{display:none}.mw-parser-output .latitude,.mw-parser-output .longitude{white-space:nowrap}.mw-parser-output .geo{}body.skin-vector .mw-parser-output #coordinates{font-size:85%;line-height:1.5em;position:absolute;right:0;top:0;white-space:nowrap}</style><span class=\"plainlinks nourlexpansion\"><a class=\"external text\" href=\"https://tools.wmflabs.org/geohack/geohack.php?language=it&amp;pagename=Berlino&amp;params=52.516667_N_13.383333_E_type:adm1st_scale:5000000\"><span class=\"geo-default\"><span class=\"geo-dms\" title=\"Mappe, foto aeree e altri dati per questa posizione\"><span class=\"latitude\">52°31′N</span> <span class=\"longitude\">13°23′E</span></span></span><span class=\"geo-multi-punct\">﻿ / ﻿</span><span class=\"geo-nondefault\"><span class=\"geo-dec\" title=\"Mappe, foto aeree e altri dati per questa posizione\">52.516667°N 13.383333°E</span><span style=\"display:none\"><span class=\"geo\">52.516667; 13.383333</span></span></span></a></span><div style=\"font-size: small\"><span class=\"noprint\" id=\"coordinates\"><a href=\"/wiki/Coordinate_geografiche\" title=\"Coordinate geografiche\">Coordinate</a>: <span class=\"plainlinks nourlexpansion\"><a class=\"external text\" href=\"https://tools.wmflabs.org/geohack/geohack.php?language=it&amp;pagename=Berlino&amp;params=52.516667_N_13.383333_E_type:adm1st_scale:5000000\"><span class=\"geo-default\"><span class=\"geo-dms\" title=\"Mappe, foto aeree e altri dati per questa posizione\"><span class=\"latitude\">52°31′N</span> <span class=\"longitude\">13°23′E</span></span></span><span class=\"geo-multi-punct\">﻿ / ﻿</span><span class=\"geo-nondefault\"><span class=\"geo-dec\" title=\"Mappe, foto aeree e altri dati per questa posizione\">52.516667°N 13.383333°E</span><span style=\"display:none\"><span class=\"geo\">52.516667; 13.383333</span></span></span></a></span></span></div>\n",
       " </td>,\n",
       " <td class=\"\" style=\"\">34 <a href=\"/wiki/Metro\" title=\"Metro\">m</a> <a href=\"/wiki/Livello_del_mare\" title=\"Livello del mare\">s.l.m.</a>\n",
       " </td>,\n",
       " <td class=\"\" style=\"\">891,12 <a href=\"/wiki/Chilometro_quadrato\" title=\"Chilometro quadrato\">km²</a>\n",
       " </td>,\n",
       " <td class=\"\" style=\"\">3 969 495<sup class=\"reference\" id=\"cite_ref-template_divisione_amministrativa-abitanti_1-0\"><a href=\"#cite_note-template_divisione_amministrativa-abitanti-1\">[1]</a></sup> <small>(<a href=\"/wiki/2019\" title=\"2019\">2019</a>)</small>\n",
       " </td>,\n",
       " <td class=\"\" style=\"\">4 454,5 ab./<a href=\"/wiki/Chilometro_quadrato\" title=\"Chilometro quadrato\">km²</a>\n",
       " </td>,\n",
       " <td class=\"\" style=\"\">no<br/><a href=\"/wiki/Distretti_di_Berlino\" title=\"Distretti di Berlino\">distretti amministrativi</a>: 12\n",
       " </td>,\n",
       " <td class=\"\" style=\"\"><a href=\"/wiki/Brandeburgo\" title=\"Brandeburgo\">Brandeburgo</a>\n",
       " </td>,\n",
       " <td class=\"\" style=\"\">10115–14199\n",
       " </td>,\n",
       " <td class=\"\" style=\"\">030\n",
       " </td>,\n",
       " <td class=\"\" style=\"\"><a href=\"/wiki/UTC%2B1\" title=\"UTC+1\">UTC+1</a>\n",
       " </td>,\n",
       " <td class=\"\" style=\"\">DE-BE\n",
       " </td>,\n",
       " <td class=\"\" style=\"\">B\n",
       " </td>,\n",
       " <td class=\"\" style=\"\">(<span style=\"font-weight:bolder; font-size:80%\"><abbr title=\"italiano\">IT</abbr></span>) berlinesi<br/>(<span style=\"font-weight:bolder; font-size:80%\"><abbr title=\"tedesco\">DE</abbr></span>)  <i>Berliner</i>\n",
       " </td>,\n",
       " <td class=\"sinottico_testo_centrale\" colspan=\"2\" style=\"\"><div class=\"center\"><div style=\"width:260px;float:none;clear:both;margin-left:auto;margin-right:auto\"><div style=\"width:260px;padding:0\"><div style=\"position:relative;width:260px\"><img alt=\"Mappa di localizzazione: Germania\" data-file-height=\"1272\" data-file-width=\"1073\" decoding=\"async\" height=\"308\" src=\"//upload.wikimedia.org/wikipedia/commons/thumb/0/0d/Germany_location_map.svg/260px-Germany_location_map.svg.png\" srcset=\"//upload.wikimedia.org/wikipedia/commons/thumb/0/0d/Germany_location_map.svg/390px-Germany_location_map.svg.png 1.5x, //upload.wikimedia.org/wikipedia/commons/thumb/0/0d/Germany_location_map.svg/520px-Germany_location_map.svg.png 2x\" title=\"Mappa di localizzazione: Germania\" width=\"260\"/><div style=\"position:absolute;top:32.7%;left:78.833%;height:0;width:0;margin:0;padding:0\"><div style=\"position:absolute;text-align:center;left:-4px;top:-4px;width:8px;font-size:8px;line-height:0\"><a href=\"http://www.openstreetmap.org/?mlat=52.516666666667&amp;mlon=13.383333333333&amp;zoom=6\" rel=\"nofollow\" title=\"Berlino\"><img alt=\"Berlino\" data-file-height=\"64\" data-file-width=\"64\" decoding=\"async\" height=\"8\" src=\"//upload.wikimedia.org/wikipedia/commons/thumb/0/0c/Red_pog.svg/8px-Red_pog.svg.png\" srcset=\"//upload.wikimedia.org/wikipedia/commons/thumb/0/0c/Red_pog.svg/12px-Red_pog.svg.png 1.5x, //upload.wikimedia.org/wikipedia/commons/thumb/0/0c/Red_pog.svg/16px-Red_pog.svg.png 2x\" width=\"8\"/></a></div><div style=\"font-size:90%;line-height:110%;position:absolute;width:6em;top:-0.75em;right:5px;text-align:right\"><span style=\"padding:1px;float:right\">Berlino</span></div></div></div></div></div></div>\n",
       " </td>,\n",
       " <td class=\"sinottico_piede2 noprint nomobile metadata\" colspan=\"2\"><a class=\"extiw\" href=\"https://www.wikidata.org/wiki/Q64\" title=\"d:Q64\"><span title=\"Modifica i dati della voce Berlino su Wikidata\">Modifica dati su Wikidata</span></a><b> ·</b> <a href=\"/wiki/Template:Divisione_amministrativa/man\" title=\"Template:Divisione amministrativa/man\"><span title=\"Manuale del template Divisione amministrativa\">Manuale</span></a></td>,\n",
       " <td style=\"background:#E6E6F6;\">3</td>,\n",
       " <td style=\"background:#E6E6F6;\">3</td>,\n",
       " <td style=\"background:#E9E9CA;\">8</td>,\n",
       " <td style=\"background:#ECEC9F;\">13</td>,\n",
       " <td style=\"background:#F0F074;\">18</td>,\n",
       " <td style=\"background:#F2E655;\">22</td>,\n",
       " <td style=\"background:#F4D04B;\">24</td>,\n",
       " <td style=\"background:#F3DB50;\">23</td>,\n",
       " <td style=\"background:#F0F06B;\">19</td>,\n",
       " <td style=\"background:#ECEC9F;\">13</td>,\n",
       " <td style=\"background:#E9E9D3;\">7</td>,\n",
       " <td style=\"background:#E7E7ED;\">4</td>,\n",
       " <td style=\"border-left-width: 2px; background:#E6E6F6;\" title=\"media\"><b>3,3</b></td>,\n",
       " <td style=\"border-left-width: 2px; background:#ECEC9F;\" title=\"media\"><b>13</b></td>,\n",
       " <td style=\"border-left-width: 2px; background:#F3DB50;\" title=\"media\"><b>23</b></td>,\n",
       " <td style=\"border-left-width: 2px; background:#ECEC9F;\" title=\"media\"><b>13</b></td>,\n",
       " <td style=\"border-left-width: 2px; background:#ECEC9F;\" title=\"media\"><b>13,1</b></td>,\n",
       " <td style=\"background:#C8C8FF;\">−3</td>,\n",
       " <td style=\"background:#C8C8FF;\">−3</td>,\n",
       " <td style=\"background:#D9D9FF;\">0</td>,\n",
       " <td style=\"background:#E7E7ED;\">4</td>,\n",
       " <td style=\"background:#EAEAC2;\">9</td>,\n",
       " <td style=\"background:#ECECA8;\">12</td>,\n",
       " <td style=\"background:#EDED96;\">14</td>,\n",
       " <td style=\"background:#EDED96;\">14</td>,\n",
       " <td style=\"background:#EBEBB0;\">11</td>,\n",
       " <td style=\"background:#E8E8DC;\">6</td>,\n",
       " <td style=\"background:#E6E6FF;\">2</td>,\n",
       " <td style=\"background:#D3D3FF;\">−1</td>,\n",
       " <td style=\"border-left-width: 2px; background:#CDCDFF;\" title=\"media\"><b>−2,3</b></td>,\n",
       " <td style=\"border-left-width: 2px; background:#E7E7ED;\" title=\"media\"><b>4,3</b></td>,\n",
       " <td style=\"border-left-width: 2px; background:#ECEC9F;\" title=\"media\"><b>13,3</b></td>,\n",
       " <td style=\"border-left-width: 2px; background:#E8E8DC;\" title=\"media\"><b>6,3</b></td>,\n",
       " <td style=\"border-left-width: 2px; background:#E7E7E4;\" title=\"media\"><b>5,4</b></td>,\n",
       " <td style=\"background:#E8E8FF;\">42</td>,\n",
       " <td style=\"background:#EDEDFF;\">33</td>,\n",
       " <td style=\"background:#E8E8FF;\">41</td>,\n",
       " <td style=\"background:#EBEBFF;\">37</td>,\n",
       " <td style=\"background:#E2E2FF;\">54</td>,\n",
       " <td style=\"background:#D9D9FF;\">69</td>,\n",
       " <td style=\"background:#E0E0FF;\">56</td>,\n",
       " <td style=\"background:#DFDFFF;\">58</td>,\n",
       " <td style=\"background:#E6E6FF;\">45</td>,\n",
       " <td style=\"background:#EBEBFF;\">37</td>,\n",
       " <td style=\"background:#E7E7FF;\">44</td>,\n",
       " <td style=\"background:#E1E1FF;\">55</td>,\n",
       " <td style=\"border-left-width: 2px; background:#E7E7FF;\" title=\"totale\"><b>130</b></td>,\n",
       " <td style=\"border-left-width: 2px; background:#E7E7FF;\" title=\"totale\"><b>132</b></td>,\n",
       " <td style=\"border-left-width: 2px; background:#DEDEFF;\" title=\"totale\"><b>183</b></td>,\n",
       " <td style=\"border-left-width: 2px; background:#E8E8FF;\" title=\"totale\"><b>126</b></td>,\n",
       " <td style=\"border-left-width: 2px; background:#E5E5FF;\" title=\"totale\"><b>571</b></td>,\n",
       " <td><img alt=\"Magnifying glass icon mgx2.svg\" class=\"noviewer\" data-file-height=\"280\" data-file-width=\"286\" decoding=\"async\" height=\"20\" src=\"//upload.wikimedia.org/wikipedia/commons/thumb/8/87/Magnifying_glass_icon_mgx2.svg/20px-Magnifying_glass_icon_mgx2.svg.png\" srcset=\"//upload.wikimedia.org/wikipedia/commons/thumb/8/87/Magnifying_glass_icon_mgx2.svg/30px-Magnifying_glass_icon_mgx2.svg.png 1.5x, //upload.wikimedia.org/wikipedia/commons/thumb/8/87/Magnifying_glass_icon_mgx2.svg/40px-Magnifying_glass_icon_mgx2.svg.png 2x\" width=\"20\"/></td>,\n",
       " <td><i>Lo stesso argomento in dettaglio: <b><a href=\"/wiki/Storia_di_Berlino\" title=\"Storia di Berlino\">Storia di Berlino</a></b></i>.</td>,\n",
       " <td><img alt=\"Magnifying glass icon mgx2.svg\" class=\"noviewer\" data-file-height=\"280\" data-file-width=\"286\" decoding=\"async\" height=\"20\" src=\"//upload.wikimedia.org/wikipedia/commons/thumb/8/87/Magnifying_glass_icon_mgx2.svg/20px-Magnifying_glass_icon_mgx2.svg.png\" srcset=\"//upload.wikimedia.org/wikipedia/commons/thumb/8/87/Magnifying_glass_icon_mgx2.svg/30px-Magnifying_glass_icon_mgx2.svg.png 1.5x, //upload.wikimedia.org/wikipedia/commons/thumb/8/87/Magnifying_glass_icon_mgx2.svg/40px-Magnifying_glass_icon_mgx2.svg.png 2x\" width=\"20\"/></td>,\n",
       " <td><i>Lo stesso argomento in dettaglio: <b><a href=\"/wiki/Battaglia_di_Berlino\" title=\"Battaglia di Berlino\">Battaglia di Berlino</a></b></i>.</td>,\n",
       " <td align=\"center\" width=\"60px\"><a class=\"image\" href=\"/wiki/File:Princess_of_Asturias_Foundation_Emblem.svg\" title=\"Premio Principe delle Asturie per la concordia (Spagna) - nastrino per uniforme ordinaria\"><img alt=\"Premio Principe delle Asturie per la concordia (Spagna) - nastrino per uniforme ordinaria\" class=\"noviewer\" data-file-height=\"1296\" data-file-width=\"952\" decoding=\"async\" height=\"30\" src=\"//upload.wikimedia.org/wikipedia/commons/thumb/7/70/Princess_of_Asturias_Foundation_Emblem.svg/22px-Princess_of_Asturias_Foundation_Emblem.svg.png\" srcset=\"//upload.wikimedia.org/wikipedia/commons/thumb/7/70/Princess_of_Asturias_Foundation_Emblem.svg/33px-Princess_of_Asturias_Foundation_Emblem.svg.png 1.5x, //upload.wikimedia.org/wikipedia/commons/thumb/7/70/Princess_of_Asturias_Foundation_Emblem.svg/44px-Princess_of_Asturias_Foundation_Emblem.svg.png 2x\" width=\"22\"/></a></td>,\n",
       " <td><a class=\"mw-redirect\" href=\"/wiki/Premio_Principe_delle_Asturie\" title=\"Premio Principe delle Asturie\">Premio Principe delle Asturie per la concordia (Spagna)</a>\n",
       " </td>,\n",
       " <td></td>,\n",
       " <td>— 2009\n",
       " </td>,\n",
       " <td><img alt=\"Magnifying glass icon mgx2.svg\" class=\"noviewer\" data-file-height=\"280\" data-file-width=\"286\" decoding=\"async\" height=\"20\" src=\"//upload.wikimedia.org/wikipedia/commons/thumb/8/87/Magnifying_glass_icon_mgx2.svg/20px-Magnifying_glass_icon_mgx2.svg.png\" srcset=\"//upload.wikimedia.org/wikipedia/commons/thumb/8/87/Magnifying_glass_icon_mgx2.svg/30px-Magnifying_glass_icon_mgx2.svg.png 1.5x, //upload.wikimedia.org/wikipedia/commons/thumb/8/87/Magnifying_glass_icon_mgx2.svg/40px-Magnifying_glass_icon_mgx2.svg.png 2x\" width=\"20\"/></td>,\n",
       " <td><i>Lo stesso argomento in dettaglio: <b><a href=\"/wiki/Palazzi_e_parchi_di_Potsdam_e_Berlino\" title=\"Palazzi e parchi di Potsdam e Berlino\">Palazzi e parchi di Potsdam e Berlino</a></b>, <b><a href=\"/wiki/Residenze_in_stile_moderno_di_Berlino\" title=\"Residenze in stile moderno di Berlino\">Residenze in stile moderno di Berlino</a></b> e <b><a href=\"/wiki/Isola_dei_musei\" title=\"Isola dei musei\">Isola dei musei</a></b></i>.</td>,\n",
       " <td><img alt=\"Magnifying glass icon mgx2.svg\" class=\"noviewer\" data-file-height=\"280\" data-file-width=\"286\" decoding=\"async\" height=\"20\" src=\"//upload.wikimedia.org/wikipedia/commons/thumb/8/87/Magnifying_glass_icon_mgx2.svg/20px-Magnifying_glass_icon_mgx2.svg.png\" srcset=\"//upload.wikimedia.org/wikipedia/commons/thumb/8/87/Magnifying_glass_icon_mgx2.svg/30px-Magnifying_glass_icon_mgx2.svg.png 1.5x, //upload.wikimedia.org/wikipedia/commons/thumb/8/87/Magnifying_glass_icon_mgx2.svg/40px-Magnifying_glass_icon_mgx2.svg.png 2x\" width=\"20\"/></td>,\n",
       " <td><i>Lo stesso argomento in dettaglio: <b><a class=\"mw-redirect\" href=\"/wiki/Musei_a_Berlino\" title=\"Musei a Berlino\">Musei a Berlino</a></b></i>.</td>,\n",
       " <td><img alt=\"Magnifying glass icon mgx2.svg\" class=\"noviewer\" data-file-height=\"280\" data-file-width=\"286\" decoding=\"async\" height=\"20\" src=\"//upload.wikimedia.org/wikipedia/commons/thumb/8/87/Magnifying_glass_icon_mgx2.svg/20px-Magnifying_glass_icon_mgx2.svg.png\" srcset=\"//upload.wikimedia.org/wikipedia/commons/thumb/8/87/Magnifying_glass_icon_mgx2.svg/30px-Magnifying_glass_icon_mgx2.svg.png 1.5x, //upload.wikimedia.org/wikipedia/commons/thumb/8/87/Magnifying_glass_icon_mgx2.svg/40px-Magnifying_glass_icon_mgx2.svg.png 2x\" width=\"20\"/></td>,\n",
       " <td><i>Lo stesso argomento in dettaglio: <b><a href=\"/wiki/Berlino_al_cinema\" title=\"Berlino al cinema\">Berlino al cinema</a></b></i>.</td>,\n",
       " <td><img alt=\"Magnifying glass icon mgx2.svg\" class=\"noviewer\" data-file-height=\"280\" data-file-width=\"286\" decoding=\"async\" height=\"20\" src=\"//upload.wikimedia.org/wikipedia/commons/thumb/8/87/Magnifying_glass_icon_mgx2.svg/20px-Magnifying_glass_icon_mgx2.svg.png\" srcset=\"//upload.wikimedia.org/wikipedia/commons/thumb/8/87/Magnifying_glass_icon_mgx2.svg/30px-Magnifying_glass_icon_mgx2.svg.png 1.5x, //upload.wikimedia.org/wikipedia/commons/thumb/8/87/Magnifying_glass_icon_mgx2.svg/40px-Magnifying_glass_icon_mgx2.svg.png 2x\" width=\"20\"/></td>,\n",
       " <td><i>Lo stesso argomento in dettaglio: <b><a href=\"/wiki/Chiesa_di_San_Michele_(Berlino)\" title=\"Chiesa di San Michele (Berlino)\">Chiesa di San Michele (Berlino)</a></b></i>.</td>,\n",
       " <td><img alt=\"Magnifying glass icon mgx2.svg\" class=\"noviewer\" data-file-height=\"280\" data-file-width=\"286\" decoding=\"async\" height=\"20\" src=\"//upload.wikimedia.org/wikipedia/commons/thumb/8/87/Magnifying_glass_icon_mgx2.svg/20px-Magnifying_glass_icon_mgx2.svg.png\" srcset=\"//upload.wikimedia.org/wikipedia/commons/thumb/8/87/Magnifying_glass_icon_mgx2.svg/30px-Magnifying_glass_icon_mgx2.svg.png 1.5x, //upload.wikimedia.org/wikipedia/commons/thumb/8/87/Magnifying_glass_icon_mgx2.svg/40px-Magnifying_glass_icon_mgx2.svg.png 2x\" width=\"20\"/></td>,\n",
       " <td><i>Lo stesso argomento in dettaglio: <b><a href=\"/wiki/Chiesa_di_San_Sebastiano_(Berlino)\" title=\"Chiesa di San Sebastiano (Berlino)\">Chiesa di San Sebastiano (Berlino)</a></b></i>.</td>,\n",
       " <td><img alt=\"Magnifying glass icon mgx2.svg\" class=\"noviewer\" data-file-height=\"280\" data-file-width=\"286\" decoding=\"async\" height=\"20\" src=\"//upload.wikimedia.org/wikipedia/commons/thumb/8/87/Magnifying_glass_icon_mgx2.svg/20px-Magnifying_glass_icon_mgx2.svg.png\" srcset=\"//upload.wikimedia.org/wikipedia/commons/thumb/8/87/Magnifying_glass_icon_mgx2.svg/30px-Magnifying_glass_icon_mgx2.svg.png 1.5x, //upload.wikimedia.org/wikipedia/commons/thumb/8/87/Magnifying_glass_icon_mgx2.svg/40px-Magnifying_glass_icon_mgx2.svg.png 2x\" width=\"20\"/></td>,\n",
       " <td><i>Lo stesso argomento in dettaglio: <b><a href=\"/wiki/Sindaci_di_Berlino\" title=\"Sindaci di Berlino\">Sindaci di Berlino</a></b></i>.</td>,\n",
       " <td><img alt=\"Magnifying glass icon mgx2.svg\" class=\"noviewer\" data-file-height=\"280\" data-file-width=\"286\" decoding=\"async\" height=\"20\" src=\"//upload.wikimedia.org/wikipedia/commons/thumb/8/87/Magnifying_glass_icon_mgx2.svg/20px-Magnifying_glass_icon_mgx2.svg.png\" srcset=\"//upload.wikimedia.org/wikipedia/commons/thumb/8/87/Magnifying_glass_icon_mgx2.svg/30px-Magnifying_glass_icon_mgx2.svg.png 1.5x, //upload.wikimedia.org/wikipedia/commons/thumb/8/87/Magnifying_glass_icon_mgx2.svg/40px-Magnifying_glass_icon_mgx2.svg.png 2x\" width=\"20\"/></td>,\n",
       " <td><i>Lo stesso argomento in dettaglio: <b><a href=\"/wiki/Distretti_di_Berlino\" title=\"Distretti di Berlino\">Distretti di Berlino</a></b> e <b><a class=\"mw-redirect\" href=\"/wiki/Quartieri_di_Berlino\" title=\"Quartieri di Berlino\">Quartieri di Berlino</a></b></i>.</td>,\n",
       " <td align=\"left\"><a href=\"/wiki/Distretto_di_Charlottenburg-Wilmersdorf\" title=\"Distretto di Charlottenburg-Wilmersdorf\">Charlottenburg-Wilmersdorf</a></td>,\n",
       " <td>315 558</td>,\n",
       " <td>64,72\n",
       " </td>,\n",
       " <td align=\"left\"><a href=\"/wiki/Distretto_di_Friedrichshain-Kreuzberg\" title=\"Distretto di Friedrichshain-Kreuzberg\">Friedrichshain-Kreuzberg</a></td>,\n",
       " <td>265 857</td>,\n",
       " <td>20,16\n",
       " </td>,\n",
       " <td align=\"left\"><a href=\"/wiki/Distretto_di_Lichtenberg\" title=\"Distretto di Lichtenberg\">Lichtenberg</a></td>,\n",
       " <td>258 738</td>,\n",
       " <td>52,29\n",
       " </td>,\n",
       " <td align=\"left\"><a href=\"/wiki/Distretto_di_Marzahn-Hellersdorf\" title=\"Distretto di Marzahn-Hellersdorf\">Marzahn-Hellersdorf</a></td>,\n",
       " <td>249 881</td>,\n",
       " <td>61,74\n",
       " </td>,\n",
       " <td align=\"left\"><a href=\"/wiki/Distretto_di_Mitte\" title=\"Distretto di Mitte\">Mitte</a></td>,\n",
       " <td>326 422</td>,\n",
       " <td>39,47\n",
       " </td>,\n",
       " <td align=\"left\"><a href=\"/wiki/Distretto_di_Neuk%C3%B6lln\" title=\"Distretto di Neukölln\">Neukölln</a></td>,\n",
       " <td>305 458</td>,\n",
       " <td>44,93\n",
       " </td>,\n",
       " <td align=\"left\"><a href=\"/wiki/Distretto_di_Pankow\" title=\"Distretto di Pankow\">Pankow</a></td>,\n",
       " <td>358 210</td>,\n",
       " <td>103,01\n",
       " </td>,\n",
       " <td align=\"left\"><a href=\"/wiki/Distretto_di_Reinickendorf\" title=\"Distretto di Reinickendorf\">Reinickendorf</a></td>,\n",
       " <td>242 445</td>,\n",
       " <td>89,46\n",
       " </td>,\n",
       " <td align=\"left\"><a href=\"/wiki/Distretto_di_Spandau\" title=\"Distretto di Spandau\">Spandau</a></td>,\n",
       " <td>224 304</td>,\n",
       " <td>91,91\n",
       " </td>,\n",
       " <td align=\"left\"><a href=\"/wiki/Distretto_di_Steglitz-Zehlendorf\" title=\"Distretto di Steglitz-Zehlendorf\">Steglitz-Zehlendorf</a></td>,\n",
       " <td>288 575</td>,\n",
       " <td>102,50\n",
       " </td>,\n",
       " <td align=\"left\"><a href=\"/wiki/Distretto_di_Tempelhof-Sch%C3%B6neberg\" title=\"Distretto di Tempelhof-Schöneberg\">Tempelhof-Schöneberg</a></td>,\n",
       " <td>332 066</td>,\n",
       " <td>53,09\n",
       " </td>,\n",
       " <td align=\"left\"><a href=\"/wiki/Distretto_di_Treptow-K%C3%B6penick\" title=\"Distretto di Treptow-Köpenick\">Treptow-Köpenick</a></td>,\n",
       " <td>236 524</td>,\n",
       " <td>168,42\n",
       " </td>,\n",
       " <td><img alt=\"Magnifying glass icon mgx2.svg\" class=\"noviewer\" data-file-height=\"280\" data-file-width=\"286\" decoding=\"async\" height=\"20\" src=\"//upload.wikimedia.org/wikipedia/commons/thumb/8/87/Magnifying_glass_icon_mgx2.svg/20px-Magnifying_glass_icon_mgx2.svg.png\" srcset=\"//upload.wikimedia.org/wikipedia/commons/thumb/8/87/Magnifying_glass_icon_mgx2.svg/30px-Magnifying_glass_icon_mgx2.svg.png 1.5x, //upload.wikimedia.org/wikipedia/commons/thumb/8/87/Magnifying_glass_icon_mgx2.svg/40px-Magnifying_glass_icon_mgx2.svg.png 2x\" width=\"20\"/></td>,\n",
       " <td><i>Lo stesso argomento in dettaglio: <b><a href=\"/wiki/Trasporti_e_infrastrutture_di_Berlino\" title=\"Trasporti e infrastrutture di Berlino\">Trasporti e infrastrutture di Berlino</a></b></i>.</td>,\n",
       " <td><img alt=\"Magnifying glass icon mgx2.svg\" class=\"noviewer\" data-file-height=\"280\" data-file-width=\"286\" decoding=\"async\" height=\"20\" src=\"//upload.wikimedia.org/wikipedia/commons/thumb/8/87/Magnifying_glass_icon_mgx2.svg/20px-Magnifying_glass_icon_mgx2.svg.png\" srcset=\"//upload.wikimedia.org/wikipedia/commons/thumb/8/87/Magnifying_glass_icon_mgx2.svg/30px-Magnifying_glass_icon_mgx2.svg.png 1.5x, //upload.wikimedia.org/wikipedia/commons/thumb/8/87/Magnifying_glass_icon_mgx2.svg/40px-Magnifying_glass_icon_mgx2.svg.png 2x\" width=\"20\"/></td>,\n",
       " <td><i>Lo stesso argomento in dettaglio: <b><a href=\"/wiki/S-Bahn_di_Berlino\" title=\"S-Bahn di Berlino\">S-Bahn di Berlino</a></b> e <b><a href=\"/wiki/Metropolitana_di_Berlino\" title=\"Metropolitana di Berlino\">Metropolitana di Berlino</a></b></i>.</td>,\n",
       " <td><img alt=\"Magnifying glass icon mgx2.svg\" class=\"noviewer\" data-file-height=\"280\" data-file-width=\"286\" decoding=\"async\" height=\"20\" src=\"//upload.wikimedia.org/wikipedia/commons/thumb/8/87/Magnifying_glass_icon_mgx2.svg/20px-Magnifying_glass_icon_mgx2.svg.png\" srcset=\"//upload.wikimedia.org/wikipedia/commons/thumb/8/87/Magnifying_glass_icon_mgx2.svg/30px-Magnifying_glass_icon_mgx2.svg.png 1.5x, //upload.wikimedia.org/wikipedia/commons/thumb/8/87/Magnifying_glass_icon_mgx2.svg/40px-Magnifying_glass_icon_mgx2.svg.png 2x\" width=\"20\"/></td>,\n",
       " <td><i>Lo stesso argomento in dettaglio: <b><a href=\"/wiki/Sport_a_Berlino\" title=\"Sport a Berlino\">Sport a Berlino</a></b></i>.</td>,\n",
       " <td class=\"navbox_list navbox_center navbox_odd\" colspan=\"2\"><a href=\"/wiki/Amburgo\" title=\"Amburgo\">Amburgo</a><b> ·</b> <a href=\"/wiki/Assia\" title=\"Assia\">Assia</a><b> ·</b> <a href=\"/wiki/Baden-W%C3%BCrttemberg\" title=\"Baden-Württemberg\">Baden-Württemberg</a><b> ·</b> <a href=\"/wiki/Bassa_Sassonia\" title=\"Bassa Sassonia\">Bassa Sassonia</a><b> ·</b> <a href=\"/wiki/Baviera\" title=\"Baviera\">Baviera</a><b> ·</b> <a class=\"mw-selflink selflink\">Berlino</a><b> ·</b> <a href=\"/wiki/Brandeburgo\" title=\"Brandeburgo\">Brandeburgo</a><b> ·</b> <a href=\"/wiki/Brema_(stato)\" title=\"Brema (stato)\">Brema</a><b> ·</b> <a href=\"/wiki/Meclemburgo-Pomerania_Anteriore\" title=\"Meclemburgo-Pomerania Anteriore\">Meclemburgo-Pomerania Anteriore</a><b> ·</b> <a href=\"/wiki/Renania-Palatinato\" title=\"Renania-Palatinato\">Renania-Palatinato</a><b> ·</b> <a href=\"/wiki/Renania_Settentrionale-Vestfalia\" title=\"Renania Settentrionale-Vestfalia\">Renania Settentrionale-Vestfalia</a><b> ·</b> <a href=\"/wiki/Saarland\" title=\"Saarland\">Saarland</a><b> ·</b> <a href=\"/wiki/Sassonia\" title=\"Sassonia\">Sassonia</a><b> ·</b> <a href=\"/wiki/Sassonia-Anhalt\" title=\"Sassonia-Anhalt\">Sassonia-Anhalt</a><b> ·</b> <a href=\"/wiki/Schleswig-Holstein\" title=\"Schleswig-Holstein\">Schleswig-Holstein</a><b> ·</b> <a href=\"/wiki/Turingia\" title=\"Turingia\">Turingia</a></td>,\n",
       " <td class=\"navbox_list navbox_odd\" colspan=\"1\" style=\"background:#ffffff;font-size:85%;\"><a href=\"/wiki/Amsterdam\" title=\"Amsterdam\">Amsterdam</a><b> ·</b> <a href=\"/wiki/Andorra_la_Vella\" title=\"Andorra la Vella\">Andorra la Vella</a><b> ·</b> <a href=\"/wiki/Ankara\" title=\"Ankara\">Ankara</a><b> ·</b> <a href=\"/wiki/Atene\" title=\"Atene\">Atene</a><b> ·</b> <a href=\"/wiki/Baku\" title=\"Baku\">Baku</a><b> ·</b> <a href=\"/wiki/Belgrado\" title=\"Belgrado\">Belgrado</a><b> ·</b> <a class=\"mw-selflink selflink\">Berlino</a><b> ·</b> <a href=\"/wiki/Berna\" title=\"Berna\">Berna</a><b> ·</b> <a href=\"/wiki/Bratislava\" title=\"Bratislava\">Bratislava</a><b> ·</b> <a href=\"/wiki/Bruxelles_(comune)\" title=\"Bruxelles (comune)\">Bruxelles</a><b> ·</b> <a href=\"/wiki/Bucarest\" title=\"Bucarest\">Bucarest</a><b> ·</b> <a href=\"/wiki/Budapest\" title=\"Budapest\">Budapest</a><b> ·</b> <a href=\"/wiki/Chi%C8%99in%C4%83u\" title=\"Chișinău\">Chișinău</a><b> ·</b> <a href=\"/wiki/Citt%C3%A0_del_Vaticano\" title=\"Città del Vaticano\">Città del Vaticano</a><b> ·</b> <a href=\"/wiki/Copenaghen\" title=\"Copenaghen\">Copenaghen</a><b> ·</b> <a href=\"/wiki/Dublino\" title=\"Dublino\">Dublino</a><b> ·</b> <a href=\"/wiki/Erevan\" title=\"Erevan\">Erevan</a><b> ·</b> <a href=\"/wiki/Helsinki\" title=\"Helsinki\">Helsinki</a><b> ·</b> <a href=\"/wiki/Kiev\" title=\"Kiev\">Kiev</a><b> ·</b> <a href=\"/wiki/Lisbona\" title=\"Lisbona\">Lisbona</a><b> ·</b> <a href=\"/wiki/Londra\" title=\"Londra\">Londra</a><b> ·</b> <a href=\"/wiki/Lubiana\" title=\"Lubiana\">Lubiana</a><b> ·</b> <a href=\"/wiki/Lussemburgo_(citt%C3%A0)\" title=\"Lussemburgo (città)\">Lussemburgo</a><b> ·</b> <a href=\"/wiki/Madrid\" title=\"Madrid\">Madrid</a><b> ·</b> <a href=\"/wiki/Minsk\" title=\"Minsk\">Minsk</a><b> ·</b> <a href=\"/wiki/Comune_di_Monaco\" title=\"Comune di Monaco\">Monaco</a><b> ·</b> <a href=\"/wiki/Mosca_(Russia)\" title=\"Mosca (Russia)\">Mosca</a><b> ·</b> <a href=\"/wiki/Nicosia\" title=\"Nicosia\">Nicosia</a><b> ·</b> <a href=\"/wiki/Oslo\" title=\"Oslo\">Oslo</a><b> ·</b> <a href=\"/wiki/Parigi\" title=\"Parigi\">Parigi</a><b> ·</b> <a href=\"/wiki/Podgorica\" title=\"Podgorica\">Podgorica</a><b> ·</b> <a href=\"/wiki/Praga\" title=\"Praga\">Praga</a><b> ·</b> <a href=\"/wiki/Reykjav%C3%ADk\" title=\"Reykjavík\">Reykjavík</a><b> ·</b> <a href=\"/wiki/Riga\" title=\"Riga\">Riga</a><b> ·</b> <a href=\"/wiki/Roma\" title=\"Roma\">Roma</a><b> ·</b> <a href=\"/wiki/Citt%C3%A0_di_San_Marino\" title=\"Città di San Marino\">San Marino</a><b> ·</b> <a href=\"/wiki/Sarajevo\" title=\"Sarajevo\">Sarajevo</a><b> ·</b> <a href=\"/wiki/Skopje\" title=\"Skopje\">Skopje</a><b> ·</b> <a href=\"/wiki/Sofia\" title=\"Sofia\">Sofia</a><b> ·</b> <a href=\"/wiki/Stoccolma\" title=\"Stoccolma\">Stoccolma</a><b> ·</b> <a href=\"/wiki/Tallinn\" title=\"Tallinn\">Tallinn</a><b> ·</b> <a href=\"/wiki/Tbilisi\" title=\"Tbilisi\">Tbilisi</a><b> ·</b> <a href=\"/wiki/Tirana\" title=\"Tirana\">Tirana</a><b> ·</b> <a href=\"/wiki/Vaduz\" title=\"Vaduz\">Vaduz</a><b> ·</b> <a href=\"/wiki/La_Valletta\" title=\"La Valletta\">La Valletta</a><b> ·</b> <a href=\"/wiki/Varsavia\" title=\"Varsavia\">Varsavia</a><b> ·</b> <a href=\"/wiki/Vienna\" title=\"Vienna\">Vienna</a><b> ·</b> <a href=\"/wiki/Vilnius\" title=\"Vilnius\">Vilnius</a><b> ·</b> <a href=\"/wiki/Zagabria\" title=\"Zagabria\">Zagabria</a></td>,\n",
       " <td class=\"navbox_list navbox_even\" colspan=\"1\" style=\"background:#ffffff;font-size:85%;\"><a href=\"/wiki/Douglas_(Isola_di_Man)\" title=\"Douglas (Isola di Man)\">Douglas</a><b> ·</b> <a href=\"/wiki/Episkopi_Cantonment\" title=\"Episkopi Cantonment\">Episkopi Cantonment</a><b> ·</b> <a href=\"/wiki/Gibilterra\" title=\"Gibilterra\">Gibilterra</a><b> ·</b> <a href=\"/wiki/Longyearbyen\" title=\"Longyearbyen\">Longyearbyen</a><b> ·</b> <a href=\"/wiki/Mariehamn\" title=\"Mariehamn\">Mariehamn</a><b> ·</b> <a href=\"/wiki/Saint_Helier_(Jersey)\" title=\"Saint Helier (Jersey)\">Saint Helier</a><b> ·</b> <a href=\"/wiki/Saint_Peter_Port\" title=\"Saint Peter Port\">Saint Peter Port</a><b> ·</b> <a href=\"/wiki/T%C3%B3rshavn\" title=\"Tórshavn\">Tórshavn</a></td>,\n",
       " <td class=\"navbox_list navbox_odd\" colspan=\"1\" style=\"background:#ffffff;font-size:85%;\"><a href=\"/wiki/Donec%27k\" title=\"Donec'k\">Donec'k</a><b> ·</b> <a href=\"/wiki/Luhans%27k\" title=\"Luhans'k\">Luhans'k</a><b> ·</b> <a href=\"/wiki/Nicosia_Nord\" title=\"Nicosia Nord\">Nicosia Nord</a><b> ·</b> <a href=\"/wiki/Pristina\" title=\"Pristina\">Pristina</a><b> ·</b> <a href=\"/wiki/Step%27anakert\" title=\"Step'anakert\">Step'anakert</a><b> ·</b> <a href=\"/wiki/Sukhumi\" title=\"Sukhumi\">Sukhumi</a><b> ·</b> <a href=\"/wiki/Tiraspol\" title=\"Tiraspol\">Tiraspol</a><b> ·</b> <a href=\"/wiki/Tskhinvali\" title=\"Tskhinvali\">Tskhinvali</a></td>,\n",
       " <td class=\"navbox_list navbox_odd\" colspan=\"1\"><b><a href=\"/wiki/Saint_Louis\" title=\"Saint Louis\">Saint Louis</a></b>: <a href=\"/wiki/Giochi_della_III_Olimpiade\" title=\"Giochi della III Olimpiade\">1904</a><b> ·</b> <b><a href=\"/wiki/Los_Angeles\" title=\"Los Angeles\">Los Angeles</a></b>: <a href=\"/wiki/Giochi_della_X_Olimpiade\" title=\"Giochi della X Olimpiade\">1932</a> e <a href=\"/wiki/Giochi_della_XXIII_Olimpiade\" title=\"Giochi della XXIII Olimpiade\">1984</a><b> ·</b> <b><a href=\"/wiki/Citt%C3%A0_del_Messico\" title=\"Città del Messico\">Città del Messico</a></b>: <a href=\"/wiki/Giochi_della_XIX_Olimpiade\" title=\"Giochi della XIX Olimpiade\">1968</a><b> ·</b> <b><a href=\"/wiki/Montr%C3%A9al\" title=\"Montréal\">Montréal</a></b>: <a href=\"/wiki/Giochi_della_XXI_Olimpiade\" title=\"Giochi della XXI Olimpiade\">1976</a><b> ·</b> <b><a href=\"/wiki/Atlanta\" title=\"Atlanta\">Atlanta</a></b>: <a href=\"/wiki/Giochi_della_XXVI_Olimpiade\" title=\"Giochi della XXVI Olimpiade\">1996</a><b> ·</b> <b><a href=\"/wiki/Rio_de_Janeiro\" title=\"Rio de Janeiro\">Rio de Janeiro</a></b>: <a href=\"/wiki/Giochi_della_XXXI_Olimpiade\" title=\"Giochi della XXXI Olimpiade\">2016</a></td>,\n",
       " <td class=\"navbox_list navbox_even\" colspan=\"1\"><b><a href=\"/wiki/Tokyo\" title=\"Tokyo\">Tokyo</a></b>: <a href=\"/wiki/Giochi_della_XVIII_Olimpiade\" title=\"Giochi della XVIII Olimpiade\">1964</a> e <a href=\"/wiki/Giochi_della_XXXII_Olimpiade\" title=\"Giochi della XXXII Olimpiade\">2020</a><b> ·</b> <b><a href=\"/wiki/Seul\" title=\"Seul\">Seul</a></b>: <a href=\"/wiki/Giochi_della_XXIV_Olimpiade\" title=\"Giochi della XXIV Olimpiade\">1988</a><b> ·</b> <b><a href=\"/wiki/Pechino\" title=\"Pechino\">Pechino</a></b>: <a href=\"/wiki/Giochi_della_XXIX_Olimpiade\" title=\"Giochi della XXIX Olimpiade\">2008</a></td>,\n",
       " <td class=\"navbox_list navbox_odd\" colspan=\"1\"><b><a href=\"/wiki/Atene\" title=\"Atene\">Atene</a></b>: <a href=\"/wiki/Giochi_della_I_Olimpiade\" title=\"Giochi della I Olimpiade\">1896</a> e <a href=\"/wiki/Giochi_della_XXVIII_Olimpiade\" title=\"Giochi della XXVIII Olimpiade\">2004</a><b> ·</b> <b><a href=\"/wiki/Parigi\" title=\"Parigi\">Parigi</a></b>: <a href=\"/wiki/Giochi_della_II_Olimpiade\" title=\"Giochi della II Olimpiade\">1900</a> e <a href=\"/wiki/Giochi_della_VIII_Olimpiade\" title=\"Giochi della VIII Olimpiade\">1924</a><b> ·</b> <b><a href=\"/wiki/Londra\" title=\"Londra\">Londra</a></b>: <a href=\"/wiki/Giochi_della_IV_Olimpiade\" title=\"Giochi della IV Olimpiade\">1908</a>, <a href=\"/wiki/Giochi_della_XIV_Olimpiade\" title=\"Giochi della XIV Olimpiade\">1948</a> e <a href=\"/wiki/Giochi_della_XXX_Olimpiade\" title=\"Giochi della XXX Olimpiade\">2012</a><b> ·</b> <b><a href=\"/wiki/Stoccolma\" title=\"Stoccolma\">Stoccolma</a></b>: <a href=\"/wiki/Giochi_della_V_Olimpiade\" title=\"Giochi della V Olimpiade\">1912</a><b> ·</b> <b><a href=\"/wiki/Anversa\" title=\"Anversa\">Anversa</a></b>: <a href=\"/wiki/Giochi_della_VII_Olimpiade\" title=\"Giochi della VII Olimpiade\">1920</a><b> ·</b> <b><a href=\"/wiki/Amsterdam\" title=\"Amsterdam\">Amsterdam</a></b>: <a href=\"/wiki/Giochi_della_IX_Olimpiade\" title=\"Giochi della IX Olimpiade\">1928</a><b> ·</b> <b><a class=\"mw-selflink selflink\">Berlino</a></b>: <a href=\"/wiki/Giochi_della_XI_Olimpiade\" title=\"Giochi della XI Olimpiade\">1936</a><b> ·</b> <b><a href=\"/wiki/Helsinki\" title=\"Helsinki\">Helsinki</a></b>: <a href=\"/wiki/Giochi_della_XV_Olimpiade\" title=\"Giochi della XV Olimpiade\">1952</a><b> ·</b> <b><a href=\"/wiki/Roma\" title=\"Roma\">Roma</a></b>: <a href=\"/wiki/Giochi_della_XVII_Olimpiade\" title=\"Giochi della XVII Olimpiade\">1960</a><b> ·</b> <b><a href=\"/wiki/Monaco_di_Baviera\" title=\"Monaco di Baviera\">Monaco di Baviera</a></b>: <a href=\"/wiki/Giochi_della_XX_Olimpiade\" title=\"Giochi della XX Olimpiade\">1972</a><b> ·</b> <b><a href=\"/wiki/Mosca_(Russia)\" title=\"Mosca (Russia)\">Mosca</a></b>: <a href=\"/wiki/Giochi_della_XXII_Olimpiade\" title=\"Giochi della XXII Olimpiade\">1980</a><b> ·</b> <b><a href=\"/wiki/Barcellona\" title=\"Barcellona\">Barcellona</a></b>: <a href=\"/wiki/Giochi_della_XXV_Olimpiade\" title=\"Giochi della XXV Olimpiade\">1992</a></td>,\n",
       " <td class=\"navbox_list navbox_even\" colspan=\"1\"><b><a href=\"/wiki/Melbourne\" title=\"Melbourne\">Melbourne</a></b>: <a href=\"/wiki/Giochi_della_XVI_Olimpiade\" title=\"Giochi della XVI Olimpiade\">1956</a><b> ·</b> <b><a href=\"/wiki/Sydney\" title=\"Sydney\">Sydney</a></b>: <a href=\"/wiki/Giochi_della_XXVII_Olimpiade\" title=\"Giochi della XXVII Olimpiade\">2000</a></td>,\n",
       " <td class=\"navbox_list navbox_center navbox_odd\" colspan=\"2\"><div style=\"text-align:center;padding:8px\"><a href=\"/wiki/Patrimoni_dell%27umanit%C3%A0_della_Germania\" title=\"Patrimoni dell'umanità della Germania\">Patrimoni dell'umanità della Germania</a> - <a class=\"image\" href=\"/wiki/File:Commons-logo.svg\"><img alt=\"Commons-logo.svg\" data-file-height=\"1376\" data-file-width=\"1024\" decoding=\"async\" height=\"20\" src=\"//upload.wikimedia.org/wikipedia/commons/thumb/4/4a/Commons-logo.svg/15px-Commons-logo.svg.png\" srcset=\"//upload.wikimedia.org/wikipedia/commons/thumb/4/4a/Commons-logo.svg/23px-Commons-logo.svg.png 1.5x, //upload.wikimedia.org/wikipedia/commons/thumb/4/4a/Commons-logo.svg/30px-Commons-logo.svg.png 2x\" width=\"15\"/></a> <a class=\"extiw\" href=\"https://commons.wikimedia.org/wiki/Category:World_Heritage_Sites_in_Germany\" title=\"commons:Category:World Heritage Sites in Germany\">Cerca le immagini su Commons</a></div>\n",
       " <p><br/>\n",
       " </p>\n",
       " <a href=\"/wiki/Abbazia_di_Lorsch\" title=\"Abbazia di Lorsch\">Abbazia e vecchia cattedrale di Lorsch</a> · <a href=\"/wiki/Antiche_faggete_primordiali_dei_Carpazi_e_di_altre_regioni_d%E2%80%99Europa\" title=\"Antiche faggete primordiali dei Carpazi e di altre regioni d’Europa\">Antiche faggete primordiali dei Carpazi e di altre regioni d’Europa</a> · <a href=\"/wiki/Siti_palafitticoli_preistorici_attorno_alle_Alpi\" title=\"Siti palafitticoli preistorici attorno alle Alpi\">Antichi insediamenti sulle Alpi</a> · <a href=\"/wiki/Bergpark_Wilhelmsh%C3%B6he\" title=\"Bergpark Wilhelmshöhe\">Bergpark Wilhelmshöhe</a> · <a href=\"/wiki/Castelli_di_Augustusburg_e_Falkenlust\" title=\"Castelli di Augustusburg e Falkenlust\">Castelli di Augustusburg e Falkenlust a Brühl</a> · <a href=\"/wiki/Wartburg\" title=\"Wartburg\">Castello di Wartburg</a> · <a href=\"/wiki/Cattedrale_di_Aquisgrana\" title=\"Cattedrale di Aquisgrana\">Cattedrale di Aquisgrana</a> · <a href=\"/wiki/Cattedrale_di_Santa_Maria_Assunta_(Hildesheim)\" title=\"Cattedrale di Santa Maria Assunta (Hildesheim)\">Cattedrale di Santa Maria</a> e <a href=\"/wiki/Chiesa_di_San_Michele_(Hildesheim)\" title=\"Chiesa di San Michele (Hildesheim)\">Chiesa di San Michele a Hildesheim</a> · <a href=\"/wiki/Duomo_di_Spira\" title=\"Duomo di Spira\">Cattedrale di Spira</a> · <a href=\"/wiki/Stralsund\" title=\"Stralsund\">Centri storici di Stralsund</a> e <a href=\"/wiki/Wismar\" title=\"Wismar\">Wismar</a> · <a href=\"/wiki/Quedlinburg\" title=\"Quedlinburg\">Chiesa collegiata, castello e città vecchia di Quedlinburg</a> · <a href=\"/wiki/Santuario_di_Wies\" title=\"Santuario di Wies\">Chiesa del pellegrinaggio di Wies</a> · <a href=\"/wiki/Lubecca\" title=\"Lubecca\">Città anseatica di Lubecca</a> · <a href=\"/wiki/Bamberga\" title=\"Bamberga\">Città di Bamberga</a> · <a href=\"/wiki/Memoriali_di_Lutero_a_Eisleben_e_Wittenberg\" title=\"Memoriali di Lutero a Eisleben e Wittenberg\">Memoriali di Lutero a Eisleben e Wittenberg</a> · <a href=\"/wiki/Ratisbona\" title=\"Ratisbona\">Città vecchia di Ratisbona</a> con <a href=\"/wiki/Stadtamhof\" title=\"Stadtamhof\">Stadtamhof</a> · <a href=\"/wiki/Officine_Fagus\" title=\"Officine Fagus\">Officine Fagus ad Alfeld</a> · <a href=\"/wiki/Colonia_degli_artisti_di_Darmstadt\" title=\"Colonia degli artisti di Darmstadt\">Mathildenhöhe Darmstadt</a> · <a href=\"/wiki/Miniere_di_carbone_dello_Zollverein\" title=\"Miniere di carbone dello Zollverein\">Complesso industriale delle Miniere di carbone dello Zollverein ad Essen</a> · <a href=\"/wiki/Monastero_di_Maulbronn\" title=\"Monastero di Maulbronn\">Complesso monastico di Maulbronn</a> · <a href=\"/wiki/Duomo_di_Colonia\" title=\"Duomo di Colonia\">Duomo di Colonia</a> · <a class=\"mw-redirect\" href=\"/wiki/Limes_Norici\" title=\"Limes Norici\">Frontiere dell'Impero romano - Limes danubiano (sezione occidentale)</a> · <a class=\"mw-redirect\" href=\"/wiki/Limes_romano_del_basso-medio_Reno\" title=\"Limes romano del basso-medio Reno\">Frontiere dell'Impero romano - Limes della Germania inferiore</a> · Frontiere dell'Impero romano: <a href=\"/wiki/Limes_germanico-retico\" title=\"Limes germanico-retico\">Limes germanico-retico</a> · <a href=\"/wiki/Gola_del_Reno\" title=\"Gola del Reno\">Gola del Reno, fra Coblenza e Bingen</a> · <a href=\"/wiki/Grandi_citt%C3%A0_termali_d%27Europa\" title=\"Grandi città termali d'Europa\">Grandi città termali d'Europa</a> · <a href=\"/wiki/Grotte_e_arte_dell%27era_glaciale_nel_Giura_svevo\" title=\"Grotte e arte dell'era glaciale nel Giura svevo\">Grotte e arte dell'era glaciale nel Giura svevo</a> · <a href=\"/wiki/Bauhaus_e_suoi_siti_a_Weimar,_Dessau_e_Bernau\" title=\"Bauhaus e suoi siti a Weimar, Dessau e Bernau\">Bauhaus e suoi siti a Weimar, Dessau e Bernau</a> · Il <a href=\"/wiki/Municipio_di_Brema\" title=\"Municipio di Brema\">municipio</a> e la <a href=\"/wiki/Statua_di_Rolando\" title=\"Statua di Rolando\">statua di Rolando</a> sulla <a href=\"/wiki/Piazza_del_Mercato_(Brema)\" title=\"Piazza del Mercato (Brema)\">piazza del Mercato</a> di <a href=\"/wiki/Brema\" title=\"Brema\">Brema</a> · <a href=\"/wiki/Isola_dei_musei\" title=\"Isola dei musei\">Isola dei musei (Museumsinsel), Berlino</a> · <a href=\"/wiki/Isola_di_Reichenau\" title=\"Isola di Reichenau\">Isola di Reichenau</a> · <a href=\"/wiki/L%27opera_architettonica_di_Le_Corbusier,_un_contributo_eccezionale_al_Movimento_Moderno\" title=\"L'opera architettonica di Le Corbusier, un contributo eccezionale al Movimento Moderno\">L'opera architettonica di Le Corbusier, un contributo eccezionale al Movimento Moderno</a> · <a href=\"/wiki/Mare_dei_Wadden\" title=\"Mare dei Wadden\">Mare dei Wadden</a> · <a href=\"/wiki/Miniere_di_Rammelsberg\" title=\"Miniere di Rammelsberg\">Miniere di Rammelsberg</a> e <a href=\"/wiki/Goslar\" title=\"Goslar\">città storica di Goslar</a> · <a href=\"/wiki/Monumenti_romani,_cattedrale_di_San_Pietro_e_chiesa_di_Nostra_Signora_a_Treviri\" title=\"Monumenti romani, cattedrale di San Pietro e chiesa di Nostra Signora a Treviri\">Monumenti romani, cattedrale di San Pietro e chiesa di Nostra Signora a Treviri</a> · <a href=\"/wiki/Palazzi_e_parchi_di_Potsdam_e_Berlino\" title=\"Palazzi e parchi di Potsdam e Berlino\">Palazzi e parchi di Potsdam e Berlino</a> · <a href=\"/wiki/Parco_di_Muskau\" title=\"Parco di Muskau\">Parco di Muskau</a> · <a href=\"/wiki/Regno_giardino_di_Dessau-W%C3%B6rlitz\" title=\"Regno giardino di Dessau-Wörlitz\">Regno giardino di Dessau-Wörlitz</a> · <a href=\"/wiki/Residenza_di_W%C3%BCrzburg\" title=\"Residenza di Würzburg\">Residenza di Würzburg, con i giardini di corte</a> e la <a href=\"/wiki/Piazza_della_Residenza\" title=\"Piazza della Residenza\">piazza della residenza</a> · <a href=\"/wiki/Residenze_in_stile_moderno_di_Berlino\" title=\"Residenze in stile moderno di Berlino\">Residenze in stile moderno di Berlino</a> · <a href=\"/wiki/Pozzo_di_Messel\" title=\"Pozzo di Messel\">Sito fossile del Pozzo di Messel</a> · <a href=\"/wiki/Sistema_di_gestione_dell%27acqua_di_Augusta\" title=\"Sistema di gestione dell'acqua di Augusta\">Sistema di gestione dell'acqua di Augusta</a> · <a href=\"/wiki/Siti_SchUM_di_Spira,_Worms_e_Magonza\" title=\"Siti SchUM di Spira, Worms e Magonza\">Siti SchUM di Spira, Worms e Magonza</a> · <a href=\"/wiki/Speicherstadt_(Amburgo)\" title=\"Speicherstadt (Amburgo)\">Speicherstadt</a> e <a href=\"/wiki/Distretto_di_Kontorhaus\" title=\"Distretto di Kontorhaus\">Distretto di Kontorhaus</a> con la <a href=\"/wiki/Chilehaus\" title=\"Chilehaus\">Chilehaus</a> · <a href=\"/wiki/Teatro_dell%27opera_dei_Margravi\" title=\"Teatro dell'opera dei Margravi\">Teatro dell'opera dei Margravi</a> · <a href=\"/wiki/Sistema_idrico_dell%27Oberharz\" title=\"Sistema idrico dell'Oberharz\">Upper Harz Water Regale</a> · <a href=\"/wiki/Stabilimento_siderurgico_di_V%C3%B6lklingen\" title=\"Stabilimento siderurgico di Völklingen\">Stabilimento siderurgico di Völklingen</a> · <a href=\"/wiki/Weimar_classica\" title=\"Weimar classica\">Weimar classica</a> · <a href=\"/wiki/Abbazia_di_Corvey\" title=\"Abbazia di Corvey\">Westwerk carolingio e Civitas di Corvey</a></td>,\n",
       " <td class=\"navbox_list navbox_center navbox_odd\" colspan=\"2\" style=\"background:#ffffff;font-size:85%;\"><a href=\"/wiki/Atene\" title=\"Atene\">Atene</a> (1985) · <a href=\"/wiki/Firenze\" title=\"Firenze\">Firenze</a> (1986) · <a href=\"/wiki/Amsterdam\" title=\"Amsterdam\">Amsterdam</a> (1987) · <a href=\"/wiki/Berlino_Ovest\" title=\"Berlino Ovest\">Berlino Ovest</a> (1988) · <a href=\"/wiki/Parigi\" title=\"Parigi\">Parigi</a> (1989) · <a href=\"/wiki/Glasgow\" title=\"Glasgow\">Glasgow</a> (1990) · <a href=\"/wiki/Dublino\" title=\"Dublino\">Dublino</a> (1991) · <a href=\"/wiki/Madrid\" title=\"Madrid\">Madrid</a> (1992) · <a href=\"/wiki/Anversa\" title=\"Anversa\">Anversa</a> (1993) · <a href=\"/wiki/Lisbona\" title=\"Lisbona\">Lisbona</a> (1994) · <a href=\"/wiki/Lussemburgo_(citt%C3%A0)\" title=\"Lussemburgo (città)\">Lussemburgo</a> (1995) · <a href=\"/wiki/Copenaghen\" title=\"Copenaghen\">Copenaghen</a> (1996) · <a href=\"/wiki/Salonicco\" title=\"Salonicco\">Salonicco</a> (1997) · <a href=\"/wiki/Stoccolma\" title=\"Stoccolma\">Stoccolma</a> (1998) · <a href=\"/wiki/Weimar\" title=\"Weimar\">Weimar</a> (1999) · <a href=\"/wiki/Avignone\" title=\"Avignone\">Avignone</a>, <a href=\"/wiki/Bergen\" title=\"Bergen\">Bergen</a>, <a href=\"/wiki/Bologna\" title=\"Bologna\">Bologna</a>, <a href=\"/wiki/Bruxelles_(comune)\" title=\"Bruxelles (comune)\">Bruxelles</a>, <a href=\"/wiki/Cracovia\" title=\"Cracovia\">Cracovia</a>, <a href=\"/wiki/Helsinki\" title=\"Helsinki\">Helsinki</a>, <a href=\"/wiki/Praga\" title=\"Praga\">Praga</a>, <a href=\"/wiki/Reykjav%C3%ADk\" title=\"Reykjavík\">Reykjavík</a> e <a href=\"/wiki/Santiago_di_Compostela\" title=\"Santiago di Compostela\">Santiago di Compostela</a> (2000) · <a href=\"/wiki/Porto_(Portogallo)\" title=\"Porto (Portogallo)\">Porto</a> e <a href=\"/wiki/Rotterdam\" title=\"Rotterdam\">Rotterdam</a> (2001) · <a href=\"/wiki/Bruges\" title=\"Bruges\">Bruges</a> e <a href=\"/wiki/Salamanca\" title=\"Salamanca\">Salamanca</a> (2002) · <a href=\"/wiki/Graz\" title=\"Graz\">Graz</a> (2003) · <a href=\"/wiki/Genova_capitale_europea_della_cultura\" title=\"Genova capitale europea della cultura\">Genova</a> e <a href=\"/wiki/Lilla_(Francia)\" title=\"Lilla (Francia)\">Lilla</a> (2004) · <a href=\"/wiki/Cork\" title=\"Cork\">Cork</a> (2005) · <a href=\"/wiki/Patrasso\" title=\"Patrasso\">Patrasso</a> (2006) · <a href=\"/wiki/Lussemburgo_(citt%C3%A0)\" title=\"Lussemburgo (città)\">Lussemburgo</a> e <a href=\"/wiki/Sibiu\" title=\"Sibiu\">Sibiu</a> (2007) · <a href=\"/wiki/Liverpool\" title=\"Liverpool\">Liverpool</a> e <a href=\"/wiki/Stavanger\" title=\"Stavanger\">Stavanger</a> (2008) · <a href=\"/wiki/Linz\" title=\"Linz\">Linz</a> e <a href=\"/wiki/Vilnius\" title=\"Vilnius\">Vilnius</a> (2009) · <a href=\"/wiki/Essen\" title=\"Essen\">Essen</a>, <a href=\"/wiki/Istanbul\" title=\"Istanbul\">Istanbul</a> e <a href=\"/wiki/P%C3%A9cs\" title=\"Pécs\">Pécs</a> (2010) · <a href=\"/wiki/Tallinn\" title=\"Tallinn\">Tallinn</a> e <a href=\"/wiki/Turku\" title=\"Turku\">Turku</a> (2011) · <a href=\"/wiki/Guimar%C3%A3es\" title=\"Guimarães\">Guimarães</a> e <a href=\"/wiki/Maribor\" title=\"Maribor\">Maribor</a> (2012) · <a href=\"/wiki/Ko%C5%A1ice\" title=\"Košice\">Košice</a> e <a href=\"/wiki/Marsiglia\" title=\"Marsiglia\">Marsiglia</a> (2013) · <a href=\"/wiki/Riga\" title=\"Riga\">Riga</a> e <a href=\"/wiki/Ume%C3%A5\" title=\"Umeå\">Umeå</a> (2014)· <a href=\"/wiki/Mons\" title=\"Mons\">Mons</a> e <a href=\"/wiki/Plze%C5%88\" title=\"Plzeň\">Plzeň</a> (2015) · <a href=\"/wiki/Breslavia\" title=\"Breslavia\">Breslavia</a> e <a href=\"/wiki/San_Sebasti%C3%A1n\" title=\"San Sebastián\">San Sebastián</a> (2016) · <a href=\"/wiki/Aarhus\" title=\"Aarhus\">Aarhus</a> e <a href=\"/wiki/Pafo\" title=\"Pafo\">Pafo</a> (2017) · <a href=\"/wiki/Leeuwarden\" title=\"Leeuwarden\">Leeuwarden</a> e <a href=\"/wiki/La_Valletta\" title=\"La Valletta\">La Valletta</a> (2018) · <a href=\"/wiki/Matera_capitale_europea_della_cultura\" title=\"Matera capitale europea della cultura\">Matera</a> e <a href=\"/wiki/Plovdiv\" title=\"Plovdiv\">Plovdiv</a> (2019) · <b><a href=\"/wiki/Fiume_(Croazia)\" title=\"Fiume (Croazia)\">Fiume</a> e <a href=\"/wiki/Galway\" title=\"Galway\">Galway</a> (2020-21)</b></td>,\n",
       " <td class=\"navbox_image\" rowspan=\"1\"><a class=\"image\" href=\"/wiki/File:European_Capital_of_Culture.svg\"><img alt=\"European Capital of Culture.svg\" data-file-height=\"45\" data-file-width=\"67\" decoding=\"async\" height=\"54\" src=\"//upload.wikimedia.org/wikipedia/commons/thumb/5/52/European_Capital_of_Culture.svg/80px-European_Capital_of_Culture.svg.png\" srcset=\"//upload.wikimedia.org/wikipedia/commons/thumb/5/52/European_Capital_of_Culture.svg/120px-European_Capital_of_Culture.svg.png 1.5x, //upload.wikimedia.org/wikipedia/commons/thumb/5/52/European_Capital_of_Culture.svg/160px-European_Capital_of_Culture.svg.png 2x\" width=\"80\"/></a></td>,\n",
       " <td class=\"navbox_list navbox_center navbox_odd\" colspan=\"2\"><a class=\"new\" href=\"/w/index.php?title=Vicar%C3%ADa_de_la_Solidaridad&amp;action=edit&amp;redlink=1\" title=\"Vicaría de la Solidaridad (la pagina non esiste)\">Vicaría de la Solidaridad</a> (1986)<b> ·</b> <a class=\"mw-redirect\" href=\"/wiki/Villa_El_Salvador\" title=\"Villa El Salvador\">Villa El Salvador</a> (1987)<b> ·</b> <a href=\"/wiki/Unione_internazionale_per_la_conservazione_della_natura\" title=\"Unione internazionale per la conservazione della natura\">Unione internazionale per la conservazione della natura</a><b> ·</b> <a href=\"/wiki/WWF\" title=\"WWF\">WWF</a> (1988)<b> ·</b> <a href=\"/wiki/Stephen_Hawking\" title=\"Stephen Hawking\">Stephen Hawking</a> (1989)<b> ·</b> <a href=\"/wiki/Sefarditi\" title=\"Sefarditi\">Comunità Sefardite</a> (1990)<b> ·</b> <a href=\"/wiki/Medici_senza_frontiere\" title=\"Medici senza frontiere\">Medici senza frontiere</a> (1991)<b> ·</b> <a href=\"/wiki/AmfAR\" title=\"AmfAR\">AmfAR</a> (1992)<b> ·</b> <a class=\"new\" href=\"/w/index.php?title=Gesto_por_la_Paz&amp;action=edit&amp;redlink=1\" title=\"Gesto por la Paz (la pagina non esiste)\">Gesto por la Paz</a> (1993)<b> ·</b> <a class=\"new\" href=\"/w/index.php?title=Mensajeros_de_la_Paz&amp;action=edit&amp;redlink=1\" title=\"Mensajeros de la Paz (la pagina non esiste)\">Mensajeros de la Paz</a> e <a class=\"new\" href=\"/w/index.php?title=Movimiento_Nacional_de_Meninos_e_Meninas_de_Rua&amp;action=edit&amp;redlink=1\" title=\"Movimiento Nacional de Meninos e Meninas de Rua (la pagina non esiste)\">Meninas de Rua</a> e <a href=\"/wiki/Save_the_Children\" title=\"Save the Children\">Save the Children</a> (1994)<b> ·</b> <a href=\"/wiki/Husayn_di_Giordania\" title=\"Husayn di Giordania\">Husayn di Giordania</a> (1995)<b> ·</b> <a href=\"/wiki/Adolfo_Su%C3%A1rez\" title=\"Adolfo Suárez\">Adolfo Suárez</a> (1996)<b> ·</b> <a href=\"/wiki/Yehudi_Menuhin\" title=\"Yehudi Menuhin\">Yehudi Menuhin</a> e <a class=\"mw-redirect\" href=\"/wiki/Mstislav_Rostropovich\" title=\"Mstislav Rostropovich\">Mstislav Rostropovich</a> (1997)<b> ·</b> <a class=\"new\" href=\"/w/index.php?title=Nicholas_Castellanos&amp;action=edit&amp;redlink=1\" title=\"Nicholas Castellanos (la pagina non esiste)\">Nicholas Castellanos</a>, <a class=\"new\" href=\"/w/index.php?title=Vicente_Ferrer&amp;action=edit&amp;redlink=1\" title=\"Vicente Ferrer (la pagina non esiste)\">Vicente Ferrer</a>, <a class=\"new\" href=\"/w/index.php?title=Joaqu%C3%ADn_Sanz&amp;action=edit&amp;redlink=1\" title=\"Joaquín Sanz (la pagina non esiste)\">Joaquín Sanz</a> e <a href=\"/wiki/Muhammad_Yunus\" title=\"Muhammad Yunus\">Muhammad Yunus</a> (1998)<b> ·</b> <a href=\"/wiki/Caritas_internationalis\" title=\"Caritas internationalis\">Caritas internationalis</a> (1999)<b> ·</b> <a href=\"/wiki/Real_Academia_Espa%C3%B1ola\" title=\"Real Academia Española\">Real Academia Española</a> e <a href=\"/wiki/Asociaci%C3%B3n_de_Academias_de_la_Lengua_Espa%C3%B1ola\" title=\"Asociación de Academias de la Lengua Española\">Asociación de Academias de la Lengua Española</a> (2000)<b> ·</b> <a href=\"/wiki/Rete_mondiale_di_riserve_della_biosfera\" title=\"Rete mondiale di riserve della biosfera\">Rete mondiale di riserve della biosfera</a> (2001)<b> ·</b> <a href=\"/wiki/Daniel_Barenboim\" title=\"Daniel Barenboim\">Daniel Barenboim</a> e <a href=\"/wiki/Edward_Said\" title=\"Edward Said\">Edward Said</a> (2002)<b> ·</b> <a href=\"/wiki/J._K._Rowling\" title=\"J. K. Rowling\">J. K. Rowling</a> (2003)<b> ·</b> <a href=\"/wiki/Cammino_di_Santiago_di_Compostela\" title=\"Cammino di Santiago di Compostela\">Cammino di Santiago</a> (2004)<b> ·</b> <a href=\"/wiki/Figlie_della_carit%C3%A0_di_San_Vincenzo_de%27_Paoli\" title=\"Figlie della carità di San Vincenzo de' Paoli\">Figlie della carità di San Vincenzo de' Paoli</a> (2005)<b> ·</b> <a class=\"mw-redirect\" href=\"/wiki/UNICEF\" title=\"UNICEF\">UNICEF</a> (2006)<b> ·</b> <a href=\"/wiki/Yad_Vashem\" title=\"Yad Vashem\">Yad Vashem</a> (2007)<b> ·</b> <a href=\"/wiki/%C3%8Dngrid_Betancourt\" title=\"Íngrid Betancourt\">Íngrid Betancourt</a> (2008)<b> ·</b> <a class=\"mw-selflink selflink\">Berlino</a> (2009)<b> ·</b> <a class=\"new\" href=\"/w/index.php?title=Manos_Unidas&amp;action=edit&amp;redlink=1\" title=\"Manos Unidas (la pagina non esiste)\">Manos Unidas</a> (2010)<b> ·</b> <a href=\"/wiki/Fukushima\" title=\"Fukushima\">Eroi di Fukushima</a> (2011)<b> ·</b> <a class=\"new\" href=\"/w/index.php?title=Banc_Dels_Aliments&amp;action=edit&amp;redlink=1\" title=\"Banc Dels Aliments (la pagina non esiste)\">Banc Dels Aliments</a> (2012)<b> ·</b> <a class=\"new\" href=\"/w/index.php?title=Organizaci%C3%B3n_Nacional_de_Ciegos_Espa%C3%B1oles&amp;action=edit&amp;redlink=1\" title=\"Organización Nacional de Ciegos Españoles (la pagina non esiste)\">Organización Nacional de Ciegos Españoles</a> (2013)<b> ·</b> <a class=\"new\" href=\"/w/index.php?title=Caddy_Adzuba&amp;action=edit&amp;redlink=1\" title=\"Caddy Adzuba (la pagina non esiste)\">Caddy Adzuba</a> (2014)<b> ·</b> <a href=\"/wiki/Ordine_ospedaliero_di_San_Giovanni_di_Dio\" title=\"Ordine ospedaliero di San Giovanni di Dio\">Ordine ospedaliero di San Giovanni di Dio</a> (2015)<b> ·</b> <a href=\"/wiki/SOS_Villaggi_dei_bambini\" title=\"SOS Villaggi dei bambini\">SOS Villaggi dei bambini</a> (2016)<b> ·</b> <a href=\"/wiki/Unione_europea\" title=\"Unione europea\">Unione europea</a> (2017)<b> ·</b> <a href=\"/wiki/Sylvia_Earle\" title=\"Sylvia Earle\">Sylvia Earle</a> (2018)<b> ·</b> <a href=\"/wiki/Danzica\" title=\"Danzica\">Danzica</a> (2019)</td>,\n",
       " <td><a href=\"/wiki/Virtual_International_Authority_File\" title=\"Virtual International Authority File\">VIAF</a> <span class=\"uid\">(<span style=\"font-weight:bolder; font-size:80%\"><abbr title=\"inglese\">EN</abbr></span>) <a class=\"external text\" href=\"https://viaf.org/viaf/122530980\" rel=\"nofollow\">122530980</a></span><span style=\"font-weight:bold;\"> ·</span> <a href=\"/wiki/International_Standard_Name_Identifier\" title=\"International Standard Name Identifier\">ISNI</a> <span class=\"uid\">(<span style=\"font-weight:bolder; font-size:80%\"><abbr title=\"inglese\">EN</abbr></span>) <a class=\"external text\" href=\"http://isni.org/isni/0000000113648293\" rel=\"nofollow\">0000 0001 1364 8293</a></span><span style=\"font-weight:bold;\"> ·</span> <a href=\"/wiki/Library_of_Congress_Control_Number\" title=\"Library of Congress Control Number\">LCCN</a> <span class=\"uid\">(<span style=\"font-weight:bolder; font-size:80%\"><abbr title=\"inglese\">EN</abbr></span>) <a class=\"external text\" href=\"http://id.loc.gov/authorities/names/n79034972\" rel=\"nofollow\">n79034972</a></span><span style=\"font-weight:bold;\"> ·</span> <a href=\"/wiki/Gemeinsame_Normdatei\" title=\"Gemeinsame Normdatei\">GND</a> <span class=\"uid\">(<span style=\"font-weight:bolder; font-size:80%\"><abbr title=\"tedesco\">DE</abbr></span>) <a class=\"external text\" href=\"https://d-nb.info/gnd/4005728-8\" rel=\"nofollow\">4005728-8</a></span><span style=\"font-weight:bold;\"> ·</span> <a href=\"/wiki/Biblioth%C3%A8que_nationale_de_France\" title=\"Bibliothèque nationale de France\">BNF</a> <span class=\"uid\">(<span style=\"font-weight:bolder; font-size:80%\"><abbr title=\"francese\">FR</abbr></span>) <a class=\"external text\" href=\"https://catalogue.bnf.fr/ark:/12148/cb15298132w\" rel=\"nofollow\">cb15298132w</a> <a class=\"external text\" href=\"https://data.bnf.fr/ark:/12148/cb15298132w\" rel=\"nofollow\">(data)</a></span><span style=\"font-weight:bold;\"> ·</span> <a href=\"/wiki/Biblioteca_nazionale_di_Spagna\" title=\"Biblioteca nazionale di Spagna\">BNE</a> <span class=\"uid\">(<span style=\"font-weight:bolder; font-size:80%\"><abbr title=\"spagnolo\">ES</abbr></span>) <a class=\"external text\" href=\"http://catalogo.bne.es/uhtbin/authoritybrowse.cgi?action=display&amp;authority_id=XX451163\" rel=\"nofollow\">XX451163</a> <a class=\"external text\" href=\"http://datos.bne.es/resource/XX451163\" rel=\"nofollow\">(data)</a></span><span style=\"font-weight:bold;\"> ·</span> <a href=\"/wiki/Biblioteca_della_Dieta_nazionale_del_Giappone\" title=\"Biblioteca della Dieta nazionale del Giappone\">NDL</a> <span class=\"uid\">(<span style=\"font-weight:bolder; font-size:80%\"><abbr title=\"inglese\">EN</abbr>, <abbr title=\"giapponese\">JA</abbr></span>) <a class=\"external text\" href=\"https://id.ndl.go.jp/auth/ndlna/00629194\" rel=\"nofollow\">00629194</a></span><span style=\"font-weight:bold;\"> ·</span> <a href=\"/wiki/WorldCat\" title=\"WorldCat\">WorldCat Identities</a> <span class=\"uid\">(<span style=\"font-weight:bolder; font-size:80%\"><abbr title=\"inglese\">EN</abbr></span>) <a class=\"external text\" href=\"https://www.worldcat.org/identities/lccn-n79034972\" rel=\"nofollow\">lccn-n79034972</a></span></td>,\n",
       " <td style=\"padding-right:3px; width:50%;\"><div style=\"width:100%; line-height:25px; background-color: #F0EEFF; border:1px solid #CCF;\"><a class=\"image\" href=\"/wiki/File:DE-pahyl.svg\" title=\"Germania\"><img alt=\"Germania\" class=\"noviewer\" data-file-height=\"784\" data-file-width=\"590\" decoding=\"async\" height=\"25\" src=\"//upload.wikimedia.org/wikipedia/commons/thumb/4/46/DE-pahyl.svg/19px-DE-pahyl.svg.png\" srcset=\"//upload.wikimedia.org/wikipedia/commons/thumb/4/46/DE-pahyl.svg/28px-DE-pahyl.svg.png 1.5x, //upload.wikimedia.org/wikipedia/commons/thumb/4/46/DE-pahyl.svg/38px-DE-pahyl.svg.png 2x\" width=\"19\"/></a> <b><a href=\"/wiki/Portale:Germania\" title=\"Portale:Germania\">Portale Germania</a></b></div></td>,\n",
       " <td style=\"padding-left:3px; width:50%;\"><div style=\"width:100%; line-height:25px; background-color: #F0EEFF; border:1px solid #CCF;\"><a class=\"image\" href=\"/wiki/File:Unesco_Cultural_Heritage_logo.svg\" title=\"Patrimoni dell'umanità\"><img alt=\"Patrimoni dell'umanità\" class=\"noviewer\" data-file-height=\"128\" data-file-width=\"128\" decoding=\"async\" height=\"25\" src=\"//upload.wikimedia.org/wikipedia/commons/thumb/3/3e/Unesco_Cultural_Heritage_logo.svg/25px-Unesco_Cultural_Heritage_logo.svg.png\" srcset=\"//upload.wikimedia.org/wikipedia/commons/thumb/3/3e/Unesco_Cultural_Heritage_logo.svg/38px-Unesco_Cultural_Heritage_logo.svg.png 1.5x, //upload.wikimedia.org/wikipedia/commons/thumb/3/3e/Unesco_Cultural_Heritage_logo.svg/50px-Unesco_Cultural_Heritage_logo.svg.png 2x\" width=\"25\"/></a> <b><a href=\"/wiki/Portale:Patrimoni_dell%27umanit%C3%A0\" title=\"Portale:Patrimoni dell'umanità\">Portale Patrimoni dell'umanità</a></b></div></td>]"
      ]
     },
     "execution_count": 149,
     "metadata": {},
     "output_type": "execute_result"
    }
   ],
   "source": [
    "soup.select('td')"
   ]
  },
  {
   "cell_type": "code",
   "execution_count": 265,
   "id": "1a3ec555-ac1a-4c11-8857-0632317e46fc",
   "metadata": {},
   "outputs": [],
   "source": [
    "values=[]"
   ]
  },
  {
   "cell_type": "code",
   "execution_count": 266,
   "id": "9e5efa9f-4a92-4a03-8443-91e168712044",
   "metadata": {},
   "outputs": [
    {
     "data": {
      "text/plain": [
       "152"
      ]
     },
     "execution_count": 266,
     "metadata": {},
     "output_type": "execute_result"
    }
   ],
   "source": [
    "num_iter=len(soup.select(\"td\"))\n",
    "num_iter"
   ]
  },
  {
   "cell_type": "code",
   "execution_count": 267,
   "id": "f7982c8b-3023-4f1a-bd9b-e66d757f51eb",
   "metadata": {},
   "outputs": [
    {
     "data": {
      "text/plain": [
       "22"
      ]
     },
     "execution_count": 267,
     "metadata": {},
     "output_type": "execute_result"
    }
   ],
   "source": [
    "num_iter_1=len(soup.select(\"table.sinottico td\"))\n",
    "num_iter_1"
   ]
  },
  {
   "cell_type": "code",
   "execution_count": 268,
   "id": "8110942b-a322-4c65-ae75-6fdc45a9114b",
   "metadata": {},
   "outputs": [],
   "source": [
    "for i in range(num_iter_1):\n",
    "    values.append(soup.select(\"table.sinottico td\")[i].get_text())"
   ]
  },
  {
   "cell_type": "code",
   "execution_count": 269,
   "id": "04eaa584-af4c-46e3-bd82-6eed41cc3bf8",
   "metadata": {
    "tags": []
   },
   "outputs": [
    {
     "name": "stdout",
     "output_type": "stream",
     "text": [
      "['(DE)  Berlin\\n', '\\n\\n\\n', '', '', '\\n', '\\xa0Germania\\n', \"Sindaco governatore: Michael Müller (SPD) dall'11/12/2014\\n\", '52°31′N 13°23′E\\ufeff / \\ufeff52.516667°N 13.383333°E52.516667; 13.383333Coordinate: 52°31′N 13°23′E\\ufeff / \\ufeff52.516667°N 13.383333°E52.516667; 13.383333\\n', '34\\xa0m\\xa0s.l.m.\\n', '891,12 km²\\n', '3\\xa0969\\xa0495[1] (2019)\\n', '4\\xa0454,5 ab./km²\\n', 'nodistretti amministrativi: 12\\n', 'Brandeburgo\\n', '10115–14199\\n', '030\\n', 'UTC+1\\n', 'DE-BE\\n', 'B\\n', '(IT) berlinesi(DE)  Berliner\\n', 'Berlino\\n', 'Modifica dati su Wikidata\\xa0· Manuale']\n"
     ]
    }
   ],
   "source": [
    "print(str(values))"
   ]
  },
  {
   "cell_type": "code",
   "execution_count": 271,
   "id": "7ee0203b-4c28-4126-ae9d-76e9893049bc",
   "metadata": {},
   "outputs": [],
   "source": [
    "attribute=[]"
   ]
  },
  {
   "cell_type": "code",
   "execution_count": 272,
   "id": "67b48be7-d4a5-4973-a274-e3817e8da46e",
   "metadata": {},
   "outputs": [
    {
     "data": {
      "text/plain": [
       "63"
      ]
     },
     "execution_count": 272,
     "metadata": {},
     "output_type": "execute_result"
    }
   ],
   "source": [
    "num_iter_2=len(soup.select(\"th\"))\n",
    "num_iter_2"
   ]
  },
  {
   "cell_type": "code",
   "execution_count": 273,
   "id": "72b4f0cd-fe1f-41ce-ab7b-3e6b3f0ef038",
   "metadata": {},
   "outputs": [],
   "source": [
    "for i in range(num_iter_2):\n",
    "    attribute.append(soup.select(\"th\")[i].get_text())"
   ]
  },
  {
   "cell_type": "code",
   "execution_count": 274,
   "id": "a1fbf51c-c09a-414d-b09e-6d8a9c1c85d0",
   "metadata": {
    "tags": []
   },
   "outputs": [
    {
     "data": {
      "text/plain": [
       "['Berlinocittà-land',\n",
       " 'Localizzazione',\n",
       " 'Stato',\n",
       " 'Amministrazione',\n",
       " 'Ministro presidente',\n",
       " 'Territorio',\n",
       " 'Coordinate',\n",
       " 'Altitudine',\n",
       " 'Superficie',\n",
       " 'Abitanti',\n",
       " 'Densità',\n",
       " 'Distretti gov.',\n",
       " 'Länder confinanti',\n",
       " 'Altre informazioni',\n",
       " 'Cod. postale',\n",
       " 'Prefisso',\n",
       " 'Fuso orario',\n",
       " 'ISO 3166-2',\n",
       " 'Targa',\n",
       " 'Nome abitanti',\n",
       " 'Cartografia',\n",
       " 'Sito istituzionale',\n",
       " 'Mese',\n",
       " ' Mesi ',\n",
       " ' Stagioni ',\n",
       " ' Anno ',\n",
       " ' Gen ',\n",
       " ' Feb ',\n",
       " ' Mar ',\n",
       " ' Apr ',\n",
       " ' Mag ',\n",
       " ' Giu ',\n",
       " ' Lug ',\n",
       " ' Ago ',\n",
       " ' Set ',\n",
       " ' Ott ',\n",
       " ' Nov ',\n",
       " ' Dic ',\n",
       " 'Inv',\n",
       " 'Pri',\n",
       " 'Est',\n",
       " ' Aut ',\n",
       " ' T. max. media (°C) ',\n",
       " ' T. min. media (°C) ',\n",
       " ' Precipitazioni (mm) ',\n",
       " 'Distretto',\n",
       " 'Residenti31 dicembre 2006',\n",
       " 'Superficiein km²\\n',\n",
       " 'V\\xa0·\\xa0D\\xa0·\\xa0M Stati federati della Germania',\n",
       " \"V\\xa0·\\xa0D\\xa0·\\xa0MCapitali degli Stati e dei territori dipendenti d'Europa\",\n",
       " 'Capitali di Stato',\n",
       " 'Capitali di territorio dipendente',\n",
       " 'Capitali di territorio a status conteso',\n",
       " 'V\\xa0·\\xa0D\\xa0·\\xa0M Città organizzatrici dei Giochi olimpici estivi ',\n",
       " 'America',\n",
       " 'Asia',\n",
       " 'Europa',\n",
       " 'Oceania',\n",
       " \"V\\xa0·\\xa0D\\xa0·\\xa0MUNESCO — Patrimoni dell'umanità in Germania\",\n",
       " 'V\\xa0·\\xa0D\\xa0·\\xa0MCapitali europee della cultura',\n",
       " 'Designate:Esch-sur-Alzette, Kaunas e Novi Sad (2022) · Veszprém, Eleusi e Timișoara (2023) · Bad Ischl, Tartu e Bodø (2024) · Chemnitz e Nova Gorica-Gorizia (2025) · Oulu (2026)',\n",
       " 'V\\xa0·\\xa0D\\xa0·\\xa0MPremio Principessa delle Asturie - Categoria Concordia',\n",
       " 'Controllo di autorità']"
      ]
     },
     "execution_count": 274,
     "metadata": {},
     "output_type": "execute_result"
    }
   ],
   "source": [
    "attribute"
   ]
  },
  {
   "cell_type": "code",
   "execution_count": 287,
   "id": "b7696e54-e68e-49a8-bf76-8376099808d1",
   "metadata": {},
   "outputs": [
    {
     "data": {
      "text/html": [
       "<div>\n",
       "<style scoped>\n",
       "    .dataframe tbody tr th:only-of-type {\n",
       "        vertical-align: middle;\n",
       "    }\n",
       "\n",
       "    .dataframe tbody tr th {\n",
       "        vertical-align: top;\n",
       "    }\n",
       "\n",
       "    .dataframe thead th {\n",
       "        text-align: right;\n",
       "    }\n",
       "</style>\n",
       "<table border=\"1\" class=\"dataframe\">\n",
       "  <thead>\n",
       "    <tr style=\"text-align: right;\">\n",
       "      <th></th>\n",
       "      <th>attribute</th>\n",
       "    </tr>\n",
       "  </thead>\n",
       "  <tbody>\n",
       "    <tr>\n",
       "      <th>0</th>\n",
       "      <td>Berlinocittà-land</td>\n",
       "    </tr>\n",
       "    <tr>\n",
       "      <th>1</th>\n",
       "      <td>Stato</td>\n",
       "    </tr>\n",
       "    <tr>\n",
       "      <th>2</th>\n",
       "      <td>Ministro presidente</td>\n",
       "    </tr>\n",
       "    <tr>\n",
       "      <th>3</th>\n",
       "      <td>Coordinate</td>\n",
       "    </tr>\n",
       "    <tr>\n",
       "      <th>4</th>\n",
       "      <td>Altitudine</td>\n",
       "    </tr>\n",
       "    <tr>\n",
       "      <th>5</th>\n",
       "      <td>Superficie</td>\n",
       "    </tr>\n",
       "    <tr>\n",
       "      <th>6</th>\n",
       "      <td>Abitanti</td>\n",
       "    </tr>\n",
       "    <tr>\n",
       "      <th>7</th>\n",
       "      <td>Densità</td>\n",
       "    </tr>\n",
       "    <tr>\n",
       "      <th>8</th>\n",
       "      <td>Distretti gov.</td>\n",
       "    </tr>\n",
       "    <tr>\n",
       "      <th>9</th>\n",
       "      <td>Länder confinanti</td>\n",
       "    </tr>\n",
       "    <tr>\n",
       "      <th>10</th>\n",
       "      <td>Cod. postale</td>\n",
       "    </tr>\n",
       "    <tr>\n",
       "      <th>11</th>\n",
       "      <td>Prefisso</td>\n",
       "    </tr>\n",
       "    <tr>\n",
       "      <th>12</th>\n",
       "      <td>Fuso orario</td>\n",
       "    </tr>\n",
       "    <tr>\n",
       "      <th>13</th>\n",
       "      <td>ISO 3166-2</td>\n",
       "    </tr>\n",
       "    <tr>\n",
       "      <th>14</th>\n",
       "      <td>Targa</td>\n",
       "    </tr>\n",
       "    <tr>\n",
       "      <th>15</th>\n",
       "      <td>Nome abitanti</td>\n",
       "    </tr>\n",
       "  </tbody>\n",
       "</table>\n",
       "</div>"
      ],
      "text/plain": [
       "              attribute\n",
       "0     Berlinocittà-land\n",
       "1                 Stato\n",
       "2   Ministro presidente\n",
       "3            Coordinate\n",
       "4            Altitudine\n",
       "5            Superficie\n",
       "6              Abitanti\n",
       "7               Densità\n",
       "8        Distretti gov.\n",
       "9     Länder confinanti\n",
       "10         Cod. postale\n",
       "11             Prefisso\n",
       "12          Fuso orario\n",
       "13           ISO 3166-2\n",
       "14                Targa\n",
       "15        Nome abitanti"
      ]
     },
     "execution_count": 287,
     "metadata": {},
     "output_type": "execute_result"
    }
   ],
   "source": [
    "city_wiki= pd.DataFrame({\"attribute\":attribute})\n",
    "city_wiki=city_wiki.head(20)\n",
    "city_wiki=city_wiki.drop(city_wiki.index[[1,3,5,13]], axis=0)\n",
    "city_wiki=city_wiki.reset_index()\n",
    "city_wiki=city_wiki.drop('index', axis=1)\n",
    "city_wiki"
   ]
  },
  {
   "cell_type": "code",
   "execution_count": 277,
   "id": "345d9fef-7227-4b36-9c78-c1fbfe199273",
   "metadata": {},
   "outputs": [
    {
     "data": {
      "text/html": [
       "<div>\n",
       "<style scoped>\n",
       "    .dataframe tbody tr th:only-of-type {\n",
       "        vertical-align: middle;\n",
       "    }\n",
       "\n",
       "    .dataframe tbody tr th {\n",
       "        vertical-align: top;\n",
       "    }\n",
       "\n",
       "    .dataframe thead th {\n",
       "        text-align: right;\n",
       "    }\n",
       "</style>\n",
       "<table border=\"1\" class=\"dataframe\">\n",
       "  <thead>\n",
       "    <tr style=\"text-align: right;\">\n",
       "      <th></th>\n",
       "      <th>values</th>\n",
       "    </tr>\n",
       "  </thead>\n",
       "  <tbody>\n",
       "    <tr>\n",
       "      <th>0</th>\n",
       "      <td>(DE)  Berlin</td>\n",
       "    </tr>\n",
       "    <tr>\n",
       "      <th>1</th>\n",
       "      <td>Germania</td>\n",
       "    </tr>\n",
       "    <tr>\n",
       "      <th>2</th>\n",
       "      <td>Sindaco governatore: Michael Müller (SPD) dall...</td>\n",
       "    </tr>\n",
       "    <tr>\n",
       "      <th>3</th>\n",
       "      <td>52°31′N 13°23′E﻿ / ﻿52.516667°N 13.383333°E52....</td>\n",
       "    </tr>\n",
       "    <tr>\n",
       "      <th>4</th>\n",
       "      <td>34 m s.l.m.</td>\n",
       "    </tr>\n",
       "    <tr>\n",
       "      <th>5</th>\n",
       "      <td>891,12 km²</td>\n",
       "    </tr>\n",
       "    <tr>\n",
       "      <th>6</th>\n",
       "      <td>3 969 495[1] (2019)</td>\n",
       "    </tr>\n",
       "    <tr>\n",
       "      <th>7</th>\n",
       "      <td>4 454,5 ab./km²</td>\n",
       "    </tr>\n",
       "    <tr>\n",
       "      <th>8</th>\n",
       "      <td>nodistretti amministrativi: 12</td>\n",
       "    </tr>\n",
       "    <tr>\n",
       "      <th>9</th>\n",
       "      <td>Brandeburgo</td>\n",
       "    </tr>\n",
       "    <tr>\n",
       "      <th>10</th>\n",
       "      <td>10115–14199</td>\n",
       "    </tr>\n",
       "    <tr>\n",
       "      <th>11</th>\n",
       "      <td>030</td>\n",
       "    </tr>\n",
       "    <tr>\n",
       "      <th>12</th>\n",
       "      <td>UTC+1</td>\n",
       "    </tr>\n",
       "    <tr>\n",
       "      <th>13</th>\n",
       "      <td>DE-BE</td>\n",
       "    </tr>\n",
       "    <tr>\n",
       "      <th>14</th>\n",
       "      <td>B</td>\n",
       "    </tr>\n",
       "    <tr>\n",
       "      <th>15</th>\n",
       "      <td>(IT) berlinesi(DE)  Berliner</td>\n",
       "    </tr>\n",
       "  </tbody>\n",
       "</table>\n",
       "</div>"
      ],
      "text/plain": [
       "                                               values\n",
       "0                                        (DE)  Berlin\n",
       "1                                            Germania\n",
       "2   Sindaco governatore: Michael Müller (SPD) dall...\n",
       "3   52°31′N 13°23′E﻿ / ﻿52.516667°N 13.383333°E52....\n",
       "4                                         34 m s.l.m.\n",
       "5                                          891,12 km²\n",
       "6                                 3 969 495[1] (2019)\n",
       "7                                     4 454,5 ab./km²\n",
       "8                      nodistretti amministrativi: 12\n",
       "9                                         Brandeburgo\n",
       "10                                        10115–14199\n",
       "11                                                030\n",
       "12                                              UTC+1\n",
       "13                                              DE-BE\n",
       "14                                                  B\n",
       "15                       (IT) berlinesi(DE)  Berliner"
      ]
     },
     "execution_count": 277,
     "metadata": {},
     "output_type": "execute_result"
    }
   ],
   "source": [
    "city_wiki_3= pd.DataFrame({\"values\":values})\n",
    "city_wiki_3=city_wiki_3.head(20)\n",
    "city_wiki_3=city_wiki_3['values'].str.rstrip('\\n').reset_index()\n",
    "city_wiki_3=city_wiki_3.drop('index', axis=1)\n",
    "city_wiki_3=city_wiki_3.drop(city_wiki_3.index[[1,2,3,4]], axis=0)\n",
    "city_wiki_3=city_wiki_3.reset_index()\n",
    "city_wiki_3=city_wiki_3.drop('index', axis=1)\n",
    "city_wiki_3"
   ]
  },
  {
   "cell_type": "code",
   "execution_count": 291,
   "id": "1c574644-66bb-46dc-9be8-aca99c84aa83",
   "metadata": {},
   "outputs": [
    {
     "data": {
      "text/html": [
       "<div>\n",
       "<style scoped>\n",
       "    .dataframe tbody tr th:only-of-type {\n",
       "        vertical-align: middle;\n",
       "    }\n",
       "\n",
       "    .dataframe tbody tr th {\n",
       "        vertical-align: top;\n",
       "    }\n",
       "\n",
       "    .dataframe thead th {\n",
       "        text-align: right;\n",
       "    }\n",
       "</style>\n",
       "<table border=\"1\" class=\"dataframe\">\n",
       "  <thead>\n",
       "    <tr style=\"text-align: right;\">\n",
       "      <th></th>\n",
       "      <th>attribute</th>\n",
       "      <th>values</th>\n",
       "    </tr>\n",
       "  </thead>\n",
       "  <tbody>\n",
       "    <tr>\n",
       "      <th>0</th>\n",
       "      <td>Berlinocittà-land</td>\n",
       "      <td>(DE)  Berlin</td>\n",
       "    </tr>\n",
       "    <tr>\n",
       "      <th>1</th>\n",
       "      <td>Stato</td>\n",
       "      <td>Germania</td>\n",
       "    </tr>\n",
       "    <tr>\n",
       "      <th>2</th>\n",
       "      <td>Ministro presidente</td>\n",
       "      <td>Sindaco governatore: Michael Müller (SPD) dall...</td>\n",
       "    </tr>\n",
       "    <tr>\n",
       "      <th>3</th>\n",
       "      <td>Coordinate</td>\n",
       "      <td>52°31′N 13°23′E﻿ / ﻿52.516667°N 13.383333°E52....</td>\n",
       "    </tr>\n",
       "    <tr>\n",
       "      <th>4</th>\n",
       "      <td>Altitudine</td>\n",
       "      <td>34 m s.l.m.</td>\n",
       "    </tr>\n",
       "    <tr>\n",
       "      <th>5</th>\n",
       "      <td>Superficie</td>\n",
       "      <td>891,12 km²</td>\n",
       "    </tr>\n",
       "    <tr>\n",
       "      <th>6</th>\n",
       "      <td>Abitanti</td>\n",
       "      <td>3 969 495[1] (2019)</td>\n",
       "    </tr>\n",
       "    <tr>\n",
       "      <th>7</th>\n",
       "      <td>Densità</td>\n",
       "      <td>4 454,5 ab./km²</td>\n",
       "    </tr>\n",
       "    <tr>\n",
       "      <th>8</th>\n",
       "      <td>Distretti gov.</td>\n",
       "      <td>nodistretti amministrativi: 12</td>\n",
       "    </tr>\n",
       "    <tr>\n",
       "      <th>9</th>\n",
       "      <td>Länder confinanti</td>\n",
       "      <td>Brandeburgo</td>\n",
       "    </tr>\n",
       "    <tr>\n",
       "      <th>10</th>\n",
       "      <td>Cod. postale</td>\n",
       "      <td>10115–14199</td>\n",
       "    </tr>\n",
       "    <tr>\n",
       "      <th>11</th>\n",
       "      <td>Prefisso</td>\n",
       "      <td>030</td>\n",
       "    </tr>\n",
       "    <tr>\n",
       "      <th>12</th>\n",
       "      <td>Fuso orario</td>\n",
       "      <td>UTC+1</td>\n",
       "    </tr>\n",
       "    <tr>\n",
       "      <th>13</th>\n",
       "      <td>ISO 3166-2</td>\n",
       "      <td>DE-BE</td>\n",
       "    </tr>\n",
       "    <tr>\n",
       "      <th>14</th>\n",
       "      <td>Targa</td>\n",
       "      <td>B</td>\n",
       "    </tr>\n",
       "    <tr>\n",
       "      <th>15</th>\n",
       "      <td>Nome abitanti</td>\n",
       "      <td>(IT) berlinesi(DE)  Berliner</td>\n",
       "    </tr>\n",
       "  </tbody>\n",
       "</table>\n",
       "</div>"
      ],
      "text/plain": [
       "              attribute                                             values\n",
       "0     Berlinocittà-land                                       (DE)  Berlin\n",
       "1                 Stato                                           Germania\n",
       "2   Ministro presidente  Sindaco governatore: Michael Müller (SPD) dall...\n",
       "3            Coordinate  52°31′N 13°23′E﻿ / ﻿52.516667°N 13.383333°E52....\n",
       "4            Altitudine                                        34 m s.l.m.\n",
       "5            Superficie                                         891,12 km²\n",
       "6              Abitanti                                3 969 495[1] (2019)\n",
       "7               Densità                                    4 454,5 ab./km²\n",
       "8        Distretti gov.                     nodistretti amministrativi: 12\n",
       "9     Länder confinanti                                        Brandeburgo\n",
       "10         Cod. postale                                        10115–14199\n",
       "11             Prefisso                                                030\n",
       "12          Fuso orario                                              UTC+1\n",
       "13           ISO 3166-2                                              DE-BE\n",
       "14                Targa                                                  B\n",
       "15        Nome abitanti                       (IT) berlinesi(DE)  Berliner"
      ]
     },
     "execution_count": 291,
     "metadata": {},
     "output_type": "execute_result"
    }
   ],
   "source": [
    "city_wikipedia =city_wiki.join(city_wiki_3, lsuffix='attribute', rsuffix='values')\n",
    "city_wikipedia"
   ]
  }
 ],
 "metadata": {
  "kernelspec": {
   "display_name": "Python 3",
   "language": "python",
   "name": "python3"
  },
  "language_info": {
   "codemirror_mode": {
    "name": "ipython",
    "version": 3
   },
   "file_extension": ".py",
   "mimetype": "text/x-python",
   "name": "python",
   "nbconvert_exporter": "python",
   "pygments_lexer": "ipython3",
   "version": "3.8.8"
  }
 },
 "nbformat": 4,
 "nbformat_minor": 5
}
